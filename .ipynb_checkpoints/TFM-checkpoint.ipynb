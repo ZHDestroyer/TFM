{
 "cells": [
  {
   "cell_type": "markdown",
   "metadata": {},
   "source": [
    "# Packages"
   ]
  },
  {
   "cell_type": "code",
   "execution_count": 38,
   "metadata": {},
   "outputs": [],
   "source": [
    "import pandas as pd\n",
    "import numpy as np\n",
    "import os\n",
    "import time\n",
    "import folium\n",
    "\n",
    "import keras\n",
    "\n",
    "import matplotlib.pyplot as plt\n",
    "%matplotlib inline\n",
    "import matplotlib.ticker as ticker\n",
    "from matplotlib.ticker import PercentFormatter\n",
    "\n",
    "pd.options.display.max_columns = None\n",
    "pd.options.display.max_rows = None"
   ]
  },
  {
   "cell_type": "code",
   "execution_count": 39,
   "metadata": {},
   "outputs": [],
   "source": [
    "from lib_Map import plot_map"
   ]
  },
  {
   "cell_type": "markdown",
   "metadata": {},
   "source": [
    "# Load data"
   ]
  },
  {
   "cell_type": "code",
   "execution_count": 40,
   "metadata": {},
   "outputs": [],
   "source": [
    "Data_train = pd.read_excel(\"./csv/Modelo de Consumo Predictivo.xlsx\", sheet_name = \"Data\")\n",
    "Data_test = pd.read_excel(\"./csv/Modelo de Consumo Predictivo.xlsx\", sheet_name = \"Eval\")"
   ]
  },
  {
   "cell_type": "code",
   "execution_count": 41,
   "metadata": {},
   "outputs": [
    {
     "data": {
      "text/plain": [
       "Index(['ID', 'ARTICULO', 'FECHA', 'CENTROCONSUMO', 'UBICACIONVIRTUAL',\n",
       "       'ID_ORGANOGESTOR', 'DESC_PROVINCIA', 'FECHACADUCIDADEXISTENCIAS',\n",
       "       'IMPORTESALIDA', 'CANTIDADSALIDA'],\n",
       "      dtype='object')"
      ]
     },
     "execution_count": 41,
     "metadata": {},
     "output_type": "execute_result"
    }
   ],
   "source": [
    "Data_train.columns"
   ]
  },
  {
   "cell_type": "code",
   "execution_count": 42,
   "metadata": {},
   "outputs": [
    {
     "data": {
      "text/plain": [
       "Index(['ID', 'ARTICULO', 'FECHA', 'CENTROCONSUMO', 'UBICACIONVIRTUAL',\n",
       "       'ID_ORGANOGESTOR', 'DESC_PROVINCIA', 'FECHACADUCIDADEXISTENCIAS',\n",
       "       'IMPORTESALIDA'],\n",
       "      dtype='object')"
      ]
     },
     "execution_count": 42,
     "metadata": {},
     "output_type": "execute_result"
    }
   ],
   "source": [
    "Data_test.columns"
   ]
  },
  {
   "cell_type": "markdown",
   "metadata": {},
   "source": [
    "### Separación año mes y día:"
   ]
  },
  {
   "cell_type": "code",
   "execution_count": 43,
   "metadata": {},
   "outputs": [],
   "source": [
    "Data_train['Año'] = [i.year for i in Data_train['FECHA']]\n",
    "Data_train['Mes'] = [i.month for i in Data_train['FECHA']]\n",
    "Data_train['Dia'] = [i.day for i in Data_train['FECHA']]\n",
    "\n",
    "Data_test['Año'] = [i.year for i in Data_test['FECHA']]\n",
    "Data_test['Mes'] = [i.month for i in Data_test['FECHA']]\n",
    "Data_test['Dia'] = [i.day for i in Data_test['FECHA']]"
   ]
  },
  {
   "cell_type": "code",
   "execution_count": 44,
   "metadata": {},
   "outputs": [
    {
     "data": {
      "text/html": [
       "<div>\n",
       "<style scoped>\n",
       "    .dataframe tbody tr th:only-of-type {\n",
       "        vertical-align: middle;\n",
       "    }\n",
       "\n",
       "    .dataframe tbody tr th {\n",
       "        vertical-align: top;\n",
       "    }\n",
       "\n",
       "    .dataframe thead th {\n",
       "        text-align: right;\n",
       "    }\n",
       "</style>\n",
       "<table border=\"1\" class=\"dataframe\">\n",
       "  <thead>\n",
       "    <tr style=\"text-align: right;\">\n",
       "      <th></th>\n",
       "      <th>ID</th>\n",
       "      <th>ARTICULO</th>\n",
       "      <th>FECHA</th>\n",
       "      <th>CENTROCONSUMO</th>\n",
       "      <th>UBICACIONVIRTUAL</th>\n",
       "      <th>ID_ORGANOGESTOR</th>\n",
       "      <th>DESC_PROVINCIA</th>\n",
       "      <th>FECHACADUCIDADEXISTENCIAS</th>\n",
       "      <th>IMPORTESALIDA</th>\n",
       "      <th>CANTIDADSALIDA</th>\n",
       "      <th>Año</th>\n",
       "      <th>Mes</th>\n",
       "      <th>Dia</th>\n",
       "    </tr>\n",
       "  </thead>\n",
       "  <tbody>\n",
       "    <tr>\n",
       "      <td>0</td>\n",
       "      <td>1</td>\n",
       "      <td>-1073438649</td>\n",
       "      <td>2008-01-01</td>\n",
       "      <td>17414</td>\n",
       "      <td>1525</td>\n",
       "      <td>3920000000000360380</td>\n",
       "      <td>Córdoba</td>\n",
       "      <td>NaT</td>\n",
       "      <td>0.5292</td>\n",
       "      <td>12.0</td>\n",
       "      <td>2008</td>\n",
       "      <td>1</td>\n",
       "      <td>1</td>\n",
       "    </tr>\n",
       "    <tr>\n",
       "      <td>1</td>\n",
       "      <td>2</td>\n",
       "      <td>-1073438649</td>\n",
       "      <td>2008-01-02</td>\n",
       "      <td>17414</td>\n",
       "      <td>1525</td>\n",
       "      <td>3920000000000360380</td>\n",
       "      <td>Córdoba</td>\n",
       "      <td>NaT</td>\n",
       "      <td>1.3230</td>\n",
       "      <td>30.0</td>\n",
       "      <td>2008</td>\n",
       "      <td>1</td>\n",
       "      <td>2</td>\n",
       "    </tr>\n",
       "    <tr>\n",
       "      <td>2</td>\n",
       "      <td>3</td>\n",
       "      <td>-1073438649</td>\n",
       "      <td>2008-01-02</td>\n",
       "      <td>17416</td>\n",
       "      <td>1527</td>\n",
       "      <td>3920000000000360380</td>\n",
       "      <td>Córdoba</td>\n",
       "      <td>NaT</td>\n",
       "      <td>-0.1323</td>\n",
       "      <td>-3.0</td>\n",
       "      <td>2008</td>\n",
       "      <td>1</td>\n",
       "      <td>2</td>\n",
       "    </tr>\n",
       "    <tr>\n",
       "      <td>3</td>\n",
       "      <td>4</td>\n",
       "      <td>-1073438649</td>\n",
       "      <td>2008-01-02</td>\n",
       "      <td>17416</td>\n",
       "      <td>1527</td>\n",
       "      <td>3920000000000360380</td>\n",
       "      <td>Córdoba</td>\n",
       "      <td>NaT</td>\n",
       "      <td>-0.1323</td>\n",
       "      <td>-3.0</td>\n",
       "      <td>2008</td>\n",
       "      <td>1</td>\n",
       "      <td>2</td>\n",
       "    </tr>\n",
       "    <tr>\n",
       "      <td>4</td>\n",
       "      <td>5</td>\n",
       "      <td>-1073438649</td>\n",
       "      <td>2008-01-02</td>\n",
       "      <td>17414</td>\n",
       "      <td>1525</td>\n",
       "      <td>3920000000000360380</td>\n",
       "      <td>Córdoba</td>\n",
       "      <td>NaT</td>\n",
       "      <td>0.1323</td>\n",
       "      <td>3.0</td>\n",
       "      <td>2008</td>\n",
       "      <td>1</td>\n",
       "      <td>2</td>\n",
       "    </tr>\n",
       "  </tbody>\n",
       "</table>\n",
       "</div>"
      ],
      "text/plain": [
       "   ID    ARTICULO      FECHA  CENTROCONSUMO  UBICACIONVIRTUAL  \\\n",
       "0   1 -1073438649 2008-01-01          17414              1525   \n",
       "1   2 -1073438649 2008-01-02          17414              1525   \n",
       "2   3 -1073438649 2008-01-02          17416              1527   \n",
       "3   4 -1073438649 2008-01-02          17416              1527   \n",
       "4   5 -1073438649 2008-01-02          17414              1525   \n",
       "\n",
       "       ID_ORGANOGESTOR DESC_PROVINCIA FECHACADUCIDADEXISTENCIAS  \\\n",
       "0  3920000000000360380        Córdoba                       NaT   \n",
       "1  3920000000000360380        Córdoba                       NaT   \n",
       "2  3920000000000360380        Córdoba                       NaT   \n",
       "3  3920000000000360380        Córdoba                       NaT   \n",
       "4  3920000000000360380        Córdoba                       NaT   \n",
       "\n",
       "   IMPORTESALIDA  CANTIDADSALIDA   Año  Mes  Dia  \n",
       "0         0.5292            12.0  2008    1    1  \n",
       "1         1.3230            30.0  2008    1    2  \n",
       "2        -0.1323            -3.0  2008    1    2  \n",
       "3        -0.1323            -3.0  2008    1    2  \n",
       "4         0.1323             3.0  2008    1    2  "
      ]
     },
     "execution_count": 44,
     "metadata": {},
     "output_type": "execute_result"
    }
   ],
   "source": [
    "Data_train.head()"
   ]
  },
  {
   "cell_type": "code",
   "execution_count": 62,
   "metadata": {},
   "outputs": [
    {
     "data": {
      "text/html": [
       "<div>\n",
       "<style scoped>\n",
       "    .dataframe tbody tr th:only-of-type {\n",
       "        vertical-align: middle;\n",
       "    }\n",
       "\n",
       "    .dataframe tbody tr th {\n",
       "        vertical-align: top;\n",
       "    }\n",
       "\n",
       "    .dataframe thead th {\n",
       "        text-align: right;\n",
       "    }\n",
       "</style>\n",
       "<table border=\"1\" class=\"dataframe\">\n",
       "  <thead>\n",
       "    <tr style=\"text-align: right;\">\n",
       "      <th></th>\n",
       "      <th>ARTICULO</th>\n",
       "      <th>CENTROCONSUMO</th>\n",
       "      <th>UBICACIONVIRTUAL</th>\n",
       "      <th>ID_ORGANOGESTOR</th>\n",
       "      <th>DESC_PROVINCIA</th>\n",
       "      <th>IMPORTESALIDA</th>\n",
       "      <th>Año</th>\n",
       "      <th>Mes</th>\n",
       "    </tr>\n",
       "  </thead>\n",
       "  <tbody>\n",
       "    <tr>\n",
       "      <td>0</td>\n",
       "      <td>2147470713</td>\n",
       "      <td>106117</td>\n",
       "      <td>3601</td>\n",
       "      <td>2920000000000360365</td>\n",
       "      <td>Cádiz</td>\n",
       "      <td>0.109205</td>\n",
       "      <td>2016</td>\n",
       "      <td>1</td>\n",
       "    </tr>\n",
       "    <tr>\n",
       "      <td>1</td>\n",
       "      <td>2147470713</td>\n",
       "      <td>28828</td>\n",
       "      <td>10688</td>\n",
       "      <td>1920000000000360362</td>\n",
       "      <td>Almería</td>\n",
       "      <td>0.174720</td>\n",
       "      <td>2016</td>\n",
       "      <td>1</td>\n",
       "    </tr>\n",
       "    <tr>\n",
       "      <td>2</td>\n",
       "      <td>2147470713</td>\n",
       "      <td>10712</td>\n",
       "      <td>10688</td>\n",
       "      <td>1920000000000360362</td>\n",
       "      <td>Almería</td>\n",
       "      <td>0.131040</td>\n",
       "      <td>2016</td>\n",
       "      <td>1</td>\n",
       "    </tr>\n",
       "    <tr>\n",
       "      <td>3</td>\n",
       "      <td>2147470713</td>\n",
       "      <td>303577</td>\n",
       "      <td>23</td>\n",
       "      <td>8920000000000360360</td>\n",
       "      <td>Sevilla</td>\n",
       "      <td>0.064824</td>\n",
       "      <td>2016</td>\n",
       "      <td>1</td>\n",
       "    </tr>\n",
       "    <tr>\n",
       "      <td>4</td>\n",
       "      <td>2147470712</td>\n",
       "      <td>253277</td>\n",
       "      <td>41936</td>\n",
       "      <td>7920000000000360369</td>\n",
       "      <td>Málaga</td>\n",
       "      <td>0.054471</td>\n",
       "      <td>2016</td>\n",
       "      <td>1</td>\n",
       "    </tr>\n",
       "  </tbody>\n",
       "</table>\n",
       "</div>"
      ],
      "text/plain": [
       "     ARTICULO  CENTROCONSUMO  UBICACIONVIRTUAL      ID_ORGANOGESTOR  \\\n",
       "0  2147470713         106117              3601  2920000000000360365   \n",
       "1  2147470713          28828             10688  1920000000000360362   \n",
       "2  2147470713          10712             10688  1920000000000360362   \n",
       "3  2147470713         303577                23  8920000000000360360   \n",
       "4  2147470712         253277             41936  7920000000000360369   \n",
       "\n",
       "  DESC_PROVINCIA  IMPORTESALIDA   Año  Mes  \n",
       "0          Cádiz       0.109205  2016    1  \n",
       "1        Almería       0.174720  2016    1  \n",
       "2        Almería       0.131040  2016    1  \n",
       "3        Sevilla       0.064824  2016    1  \n",
       "4         Málaga       0.054471  2016    1  "
      ]
     },
     "execution_count": 62,
     "metadata": {},
     "output_type": "execute_result"
    }
   ],
   "source": [
    "Data_test.head()"
   ]
  },
  {
   "cell_type": "code",
   "execution_count": 65,
   "metadata": {},
   "outputs": [
    {
     "data": {
      "text/plain": [
       "[-1073438649,\n",
       " 2147471022,\n",
       " -1073449806,\n",
       " 2147470713,\n",
       " 740707990,\n",
       " 740678214,\n",
       " -1073447348,\n",
       " -1073447118,\n",
       " -1073447433,\n",
       " 2147471023,\n",
       " 2147445339,\n",
       " 2147470712,\n",
       " 740708461,\n",
       " 740728250,\n",
       " 2147445228,\n",
       " 740691669,\n",
       " -1073447461,\n",
       " 740765237,\n",
       " 742239260,\n",
       " 2147471021]"
      ]
     },
     "execution_count": 65,
     "metadata": {},
     "output_type": "execute_result"
    }
   ],
   "source": [
    "Data_train['ARTICULO'].unique().tolist()"
   ]
  },
  {
   "cell_type": "code",
   "execution_count": 66,
   "metadata": {},
   "outputs": [
    {
     "name": "stdout",
     "output_type": "stream",
     "text": [
      "742456300\n"
     ]
    }
   ],
   "source": [
    "for i in Data_test['ARTICULO'].unique().tolist():\n",
    "    if i not in Data_train['ARTICULO'].unique().tolist():\n",
    "        print(i)"
   ]
  },
  {
   "cell_type": "markdown",
   "metadata": {},
   "source": [
    "## Data test y train mensuales:"
   ]
  },
  {
   "cell_type": "markdown",
   "metadata": {},
   "source": [
    "### "
   ]
  },
  {
   "cell_type": "code",
   "execution_count": 45,
   "metadata": {},
   "outputs": [],
   "source": [
    "del Data_train['ID'], Data_train['FECHA'], Data_train['FECHACADUCIDADEXISTENCIAS'], Data_train['Dia']\n",
    "del Data_test['ID'], Data_test['FECHA'], Data_test['FECHACADUCIDADEXISTENCIAS'], Data_test['Dia']"
   ]
  },
  {
   "cell_type": "code",
   "execution_count": 46,
   "metadata": {},
   "outputs": [
    {
     "name": "stderr",
     "output_type": "stream",
     "text": [
      "C:\\Users\\victo\\Anaconda3\\envs\\baseFSA\\lib\\site-packages\\ipykernel_launcher.py:1: FutureWarning: Interpreting tuple 'by' as a list of keys, rather than a single key. Use 'by=[...]' instead of 'by=(...)'. In the future, a tuple will always mean a single key.\n",
      "  \"\"\"Entry point for launching an IPython kernel.\n"
     ]
    }
   ],
   "source": [
    "ImporteSalidaSuma = (Data_train.groupby(('ARTICULO', 'CENTROCONSUMO', 'UBICACIONVIRTUAL', 'ID_ORGANOGESTOR', 'DESC_PROVINCIA', 'Año', 'Mes')) # Agrupar\n",
    "          .IMPORTESALIDA    # Quedarse con la columna packet_length\n",
    "          .apply(sum)       # Calcular su suma\n",
    "          .reset_index())   # Deshacer índice jerárquico"
   ]
  },
  {
   "cell_type": "code",
   "execution_count": 47,
   "metadata": {},
   "outputs": [
    {
     "name": "stderr",
     "output_type": "stream",
     "text": [
      "C:\\Users\\victo\\Anaconda3\\envs\\baseFSA\\lib\\site-packages\\ipykernel_launcher.py:1: FutureWarning: Interpreting tuple 'by' as a list of keys, rather than a single key. Use 'by=[...]' instead of 'by=(...)'. In the future, a tuple will always mean a single key.\n",
      "  \"\"\"Entry point for launching an IPython kernel.\n"
     ]
    }
   ],
   "source": [
    "CantidadSalidaSuma = (Data_train.groupby(('ARTICULO', 'CENTROCONSUMO', 'UBICACIONVIRTUAL', 'ID_ORGANOGESTOR', 'DESC_PROVINCIA', 'Año', 'Mes')) # Agrupar\n",
    "          .CANTIDADSALIDA    # Quedarse con la columna packet_length\n",
    "          .apply(sum)       # Calcular su suma\n",
    "          .reset_index())   # Deshacer índice jerárquico"
   ]
  },
  {
   "cell_type": "code",
   "execution_count": 48,
   "metadata": {},
   "outputs": [],
   "source": [
    "lista = ['ARTICULO', 'CENTROCONSUMO', 'UBICACIONVIRTUAL', 'ID_ORGANOGESTOR', 'DESC_PROVINCIA', 'Año', 'Mes']"
   ]
  },
  {
   "cell_type": "code",
   "execution_count": 49,
   "metadata": {},
   "outputs": [],
   "source": [
    "Data_train_mensual = pd.merge(ImporteSalidaSuma, CantidadSalidaSuma,  how='inner', on= lista)"
   ]
  },
  {
   "cell_type": "code",
   "execution_count": 59,
   "metadata": {},
   "outputs": [],
   "source": [
    "Data_train_mensual['IMPORTESALIDA_UNIDAD']= Data_train_mensual['CANTIDADSALIDA'] / Data_train_mensual['IMPORTESALIDA']"
   ]
  },
  {
   "cell_type": "code",
   "execution_count": 60,
   "metadata": {},
   "outputs": [],
   "source": [
    "by_year_period = Data_train_mensual.sort_values(['Año', 'Mes', 'ARTICULO', 'CENTROCONSUMO' ])"
   ]
  },
  {
   "cell_type": "code",
   "execution_count": 68,
   "metadata": {},
   "outputs": [
    {
     "data": {
      "text/html": [
       "<div>\n",
       "<style scoped>\n",
       "    .dataframe tbody tr th:only-of-type {\n",
       "        vertical-align: middle;\n",
       "    }\n",
       "\n",
       "    .dataframe tbody tr th {\n",
       "        vertical-align: top;\n",
       "    }\n",
       "\n",
       "    .dataframe thead th {\n",
       "        text-align: right;\n",
       "    }\n",
       "</style>\n",
       "<table border=\"1\" class=\"dataframe\">\n",
       "  <thead>\n",
       "    <tr style=\"text-align: right;\">\n",
       "      <th></th>\n",
       "      <th>ARTICULO</th>\n",
       "      <th>CENTROCONSUMO</th>\n",
       "      <th>UBICACIONVIRTUAL</th>\n",
       "      <th>ID_ORGANOGESTOR</th>\n",
       "      <th>DESC_PROVINCIA</th>\n",
       "      <th>IMPORTESALIDA</th>\n",
       "      <th>CANTIDADSALIDA</th>\n",
       "      <th>Año</th>\n",
       "      <th>Mes</th>\n",
       "    </tr>\n",
       "  </thead>\n",
       "  <tbody>\n",
       "  </tbody>\n",
       "</table>\n",
       "</div>"
      ],
      "text/plain": [
       "Empty DataFrame\n",
       "Columns: [ARTICULO, CENTROCONSUMO, UBICACIONVIRTUAL, ID_ORGANOGESTOR, DESC_PROVINCIA, IMPORTESALIDA, CANTIDADSALIDA, Año, Mes]\n",
       "Index: []"
      ]
     },
     "execution_count": 68,
     "metadata": {},
     "output_type": "execute_result"
    }
   ],
   "source": [
    "Data_train.loc[Data_train['ARTICULO']==742456300]"
   ]
  },
  {
   "cell_type": "markdown",
   "metadata": {},
   "source": [
    "# Map"
   ]
  },
  {
   "cell_type": "code",
   "execution_count": 9,
   "metadata": {},
   "outputs": [],
   "source": [
    "coord_path = \"./csv/listado-longitud-latitud-municipios-espana.xls\"\n",
    "TypeData = Data_train"
   ]
  },
  {
   "cell_type": "markdown",
   "metadata": {},
   "source": [
    "### Total:"
   ]
  },
  {
   "cell_type": "code",
   "execution_count": 6,
   "metadata": {},
   "outputs": [],
   "source": [
    "plot_map(coord_path, TypeData, Año = 'Total')"
   ]
  },
  {
   "cell_type": "markdown",
   "metadata": {},
   "source": [
    "### Por años:"
   ]
  },
  {
   "cell_type": "code",
   "execution_count": 8,
   "metadata": {},
   "outputs": [],
   "source": [
    "for Año in Data_train['Año'].unique().tolist():\n",
    "    plot_map(coord_path, TypeData, Año)"
   ]
  }
 ],
 "metadata": {
  "kernelspec": {
   "display_name": "Python 3",
   "language": "python",
   "name": "python3"
  },
  "language_info": {
   "codemirror_mode": {
    "name": "ipython",
    "version": 3
   },
   "file_extension": ".py",
   "mimetype": "text/x-python",
   "name": "python",
   "nbconvert_exporter": "python",
   "pygments_lexer": "ipython3",
   "version": "3.7.4"
  }
 },
 "nbformat": 4,
 "nbformat_minor": 2
}
