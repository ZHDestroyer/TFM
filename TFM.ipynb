{
 "cells": [
  {
   "cell_type": "markdown",
   "metadata": {},
   "source": [
    "# Packages"
   ]
  },
  {
   "cell_type": "code",
   "execution_count": 1,
   "metadata": {
    "ExecuteTime": {
     "end_time": "2020-03-04T16:37:38.775761Z",
     "start_time": "2020-03-04T16:37:06.202736Z"
    }
   },
   "outputs": [
    {
     "name": "stderr",
     "output_type": "stream",
     "text": [
      "C:\\Users\\816465\\AppData\\Local\\conda\\conda\\envs\\TensorFlow2\\lib\\site-packages\\numpy\\_distributor_init.py:32: UserWarning: loaded more than 1 DLL from .libs:\n",
      "C:\\Users\\816465\\AppData\\Local\\conda\\conda\\envs\\TensorFlow2\\lib\\site-packages\\numpy\\.libs\\libopenblas.IPBC74C7KURV7CB2PKT5Z5FNR3SIBV4J.gfortran-win_amd64.dll\n",
      "C:\\Users\\816465\\AppData\\Local\\conda\\conda\\envs\\TensorFlow2\\lib\\site-packages\\numpy\\.libs\\libopenblas.PYQHXLVVQ7VESDPUVUADXEVJOBGHJPAY.gfortran-win_amd64.dll\n",
      "C:\\Users\\816465\\AppData\\Local\\conda\\conda\\envs\\TensorFlow2\\lib\\site-packages\\numpy\\.libs\\libopenblas.txa6yqsd3gcqqc22geq54j2udcxdxhwn.gfortran-win_amd64.dll\n",
      "  stacklevel=1)\n",
      "Using TensorFlow backend.\n",
      "C:\\Users\\816465\\AppData\\Roaming\\Python\\Python36\\site-packages\\tensorflow\\python\\framework\\dtypes.py:516: FutureWarning: Passing (type, 1) or '1type' as a synonym of type is deprecated; in a future version of numpy, it will be understood as (type, (1,)) / '(1,)type'.\n",
      "  _np_qint8 = np.dtype([(\"qint8\", np.int8, 1)])\n",
      "C:\\Users\\816465\\AppData\\Roaming\\Python\\Python36\\site-packages\\tensorflow\\python\\framework\\dtypes.py:517: FutureWarning: Passing (type, 1) or '1type' as a synonym of type is deprecated; in a future version of numpy, it will be understood as (type, (1,)) / '(1,)type'.\n",
      "  _np_quint8 = np.dtype([(\"quint8\", np.uint8, 1)])\n",
      "C:\\Users\\816465\\AppData\\Roaming\\Python\\Python36\\site-packages\\tensorflow\\python\\framework\\dtypes.py:518: FutureWarning: Passing (type, 1) or '1type' as a synonym of type is deprecated; in a future version of numpy, it will be understood as (type, (1,)) / '(1,)type'.\n",
      "  _np_qint16 = np.dtype([(\"qint16\", np.int16, 1)])\n",
      "C:\\Users\\816465\\AppData\\Roaming\\Python\\Python36\\site-packages\\tensorflow\\python\\framework\\dtypes.py:519: FutureWarning: Passing (type, 1) or '1type' as a synonym of type is deprecated; in a future version of numpy, it will be understood as (type, (1,)) / '(1,)type'.\n",
      "  _np_quint16 = np.dtype([(\"quint16\", np.uint16, 1)])\n",
      "C:\\Users\\816465\\AppData\\Roaming\\Python\\Python36\\site-packages\\tensorflow\\python\\framework\\dtypes.py:520: FutureWarning: Passing (type, 1) or '1type' as a synonym of type is deprecated; in a future version of numpy, it will be understood as (type, (1,)) / '(1,)type'.\n",
      "  _np_qint32 = np.dtype([(\"qint32\", np.int32, 1)])\n",
      "C:\\Users\\816465\\AppData\\Roaming\\Python\\Python36\\site-packages\\tensorflow\\python\\framework\\dtypes.py:525: FutureWarning: Passing (type, 1) or '1type' as a synonym of type is deprecated; in a future version of numpy, it will be understood as (type, (1,)) / '(1,)type'.\n",
      "  np_resource = np.dtype([(\"resource\", np.ubyte, 1)])\n",
      "C:\\Users\\816465\\AppData\\Roaming\\Python\\Python36\\site-packages\\tensorboard\\compat\\tensorflow_stub\\dtypes.py:541: FutureWarning: Passing (type, 1) or '1type' as a synonym of type is deprecated; in a future version of numpy, it will be understood as (type, (1,)) / '(1,)type'.\n",
      "  _np_qint8 = np.dtype([(\"qint8\", np.int8, 1)])\n",
      "C:\\Users\\816465\\AppData\\Roaming\\Python\\Python36\\site-packages\\tensorboard\\compat\\tensorflow_stub\\dtypes.py:542: FutureWarning: Passing (type, 1) or '1type' as a synonym of type is deprecated; in a future version of numpy, it will be understood as (type, (1,)) / '(1,)type'.\n",
      "  _np_quint8 = np.dtype([(\"quint8\", np.uint8, 1)])\n",
      "C:\\Users\\816465\\AppData\\Roaming\\Python\\Python36\\site-packages\\tensorboard\\compat\\tensorflow_stub\\dtypes.py:543: FutureWarning: Passing (type, 1) or '1type' as a synonym of type is deprecated; in a future version of numpy, it will be understood as (type, (1,)) / '(1,)type'.\n",
      "  _np_qint16 = np.dtype([(\"qint16\", np.int16, 1)])\n",
      "C:\\Users\\816465\\AppData\\Roaming\\Python\\Python36\\site-packages\\tensorboard\\compat\\tensorflow_stub\\dtypes.py:544: FutureWarning: Passing (type, 1) or '1type' as a synonym of type is deprecated; in a future version of numpy, it will be understood as (type, (1,)) / '(1,)type'.\n",
      "  _np_quint16 = np.dtype([(\"quint16\", np.uint16, 1)])\n",
      "C:\\Users\\816465\\AppData\\Roaming\\Python\\Python36\\site-packages\\tensorboard\\compat\\tensorflow_stub\\dtypes.py:545: FutureWarning: Passing (type, 1) or '1type' as a synonym of type is deprecated; in a future version of numpy, it will be understood as (type, (1,)) / '(1,)type'.\n",
      "  _np_qint32 = np.dtype([(\"qint32\", np.int32, 1)])\n",
      "C:\\Users\\816465\\AppData\\Roaming\\Python\\Python36\\site-packages\\tensorboard\\compat\\tensorflow_stub\\dtypes.py:550: FutureWarning: Passing (type, 1) or '1type' as a synonym of type is deprecated; in a future version of numpy, it will be understood as (type, (1,)) / '(1,)type'.\n",
      "  np_resource = np.dtype([(\"resource\", np.ubyte, 1)])\n"
     ]
    }
   ],
   "source": [
    "import pandas as pd\n",
    "import numpy as np\n",
    "import os\n",
    "import folium\n",
    "\n",
    "import keras\n",
    "\n",
    "import matplotlib.pyplot as plt\n",
    "%matplotlib inline\n",
    "import matplotlib.ticker as ticker\n",
    "from matplotlib.ticker import PercentFormatter\n",
    "\n",
    "pd.options.display.max_columns = None\n",
    "pd.options.display.max_rows = None"
   ]
  },
  {
   "cell_type": "code",
   "execution_count": 2,
   "metadata": {
    "ExecuteTime": {
     "end_time": "2020-03-04T16:37:38.917857Z",
     "start_time": "2020-03-04T16:37:38.778737Z"
    }
   },
   "outputs": [],
   "source": [
    "from lib_Map import plot_map\n",
    "from lib_Dummies import Master_dummies\n",
    "from lib_NNT import NNTRegressor\n",
    "from lib_Tiempo import tiempo\n",
    "from lib_Temperatura import temperatura\n",
    "from lib_Presion import Presion\n",
    "from lib_Viento import Viento"
   ]
  },
  {
   "cell_type": "markdown",
   "metadata": {},
   "source": [
    "# Load data"
   ]
  },
  {
   "cell_type": "code",
   "execution_count": 3,
   "metadata": {
    "ExecuteTime": {
     "end_time": "2020-03-04T16:39:41.129877Z",
     "start_time": "2020-03-04T16:37:38.919852Z"
    }
   },
   "outputs": [
    {
     "name": "stdout",
     "output_type": "stream",
     "text": [
      "(440806, 10)\n",
      "(148931, 9)\n"
     ]
    }
   ],
   "source": [
    "Data_train = pd.read_excel(\"./csv/Modelo de Consumo Predictivo.xlsx\", sheet_name = \"Data\")\n",
    "print(Data_train.shape)\n",
    "Data_test = pd.read_excel(\"./csv/Modelo de Consumo Predictivo.xlsx\", sheet_name = \"Eval\")\n",
    "print(Data_test.shape)"
   ]
  },
  {
   "cell_type": "code",
   "execution_count": 4,
   "metadata": {
    "ExecuteTime": {
     "end_time": "2020-03-04T16:39:41.138850Z",
     "start_time": "2020-03-04T16:39:41.131869Z"
    }
   },
   "outputs": [
    {
     "data": {
      "text/plain": [
       "Index(['ID', 'ARTICULO', 'FECHA', 'CENTROCONSUMO', 'UBICACIONVIRTUAL',\n",
       "       'ID_ORGANOGESTOR', 'DESC_PROVINCIA', 'FECHACADUCIDADEXISTENCIAS',\n",
       "       'IMPORTESALIDA', 'CANTIDADSALIDA'],\n",
       "      dtype='object')"
      ]
     },
     "execution_count": 4,
     "metadata": {},
     "output_type": "execute_result"
    }
   ],
   "source": [
    "Data_train.columns"
   ]
  },
  {
   "cell_type": "code",
   "execution_count": 5,
   "metadata": {
    "ExecuteTime": {
     "end_time": "2020-03-04T16:39:41.155804Z",
     "start_time": "2020-03-04T16:39:41.140845Z"
    }
   },
   "outputs": [
    {
     "data": {
      "text/plain": [
       "Index(['ID', 'ARTICULO', 'FECHA', 'CENTROCONSUMO', 'UBICACIONVIRTUAL',\n",
       "       'ID_ORGANOGESTOR', 'DESC_PROVINCIA', 'FECHACADUCIDADEXISTENCIAS',\n",
       "       'IMPORTESALIDA'],\n",
       "      dtype='object')"
      ]
     },
     "execution_count": 5,
     "metadata": {},
     "output_type": "execute_result"
    }
   ],
   "source": [
    "Data_test.columns"
   ]
  },
  {
   "cell_type": "markdown",
   "metadata": {},
   "source": [
    "# Data Engineer"
   ]
  },
  {
   "cell_type": "markdown",
   "metadata": {},
   "source": [
    "## Creación variables año, mes y día:"
   ]
  },
  {
   "cell_type": "markdown",
   "metadata": {},
   "source": [
    "### Train:"
   ]
  },
  {
   "cell_type": "code",
   "execution_count": 6,
   "metadata": {
    "ExecuteTime": {
     "end_time": "2020-03-04T16:39:43.990410Z",
     "start_time": "2020-03-04T16:39:41.158803Z"
    }
   },
   "outputs": [],
   "source": [
    "Data_train['Año'] = [i.year for i in Data_train['FECHA']]\n",
    "Data_train['Mes'] = [i.month for i in Data_train['FECHA']]\n",
    "Data_train['Dia'] = [i.day for i in Data_train['FECHA']]"
   ]
  },
  {
   "cell_type": "markdown",
   "metadata": {},
   "source": [
    "### Train:"
   ]
  },
  {
   "cell_type": "code",
   "execution_count": 7,
   "metadata": {
    "ExecuteTime": {
     "end_time": "2020-03-04T16:39:45.019235Z",
     "start_time": "2020-03-04T16:39:43.992404Z"
    }
   },
   "outputs": [],
   "source": [
    "Data_test['Año'] = [i.year for i in Data_test['FECHA']]\n",
    "Data_test['Mes'] = [i.month for i in Data_test['FECHA']]\n",
    "Data_test['Dia'] = [i.day for i in Data_test['FECHA']]"
   ]
  },
  {
   "cell_type": "code",
   "execution_count": 8,
   "metadata": {
    "ExecuteTime": {
     "end_time": "2020-03-04T16:39:45.030207Z",
     "start_time": "2020-03-04T16:39:45.021196Z"
    }
   },
   "outputs": [
    {
     "data": {
      "text/plain": [
       "[2008, 2009, 2010, 2011, 2012, 2013, 2014, 2015]"
      ]
     },
     "execution_count": 8,
     "metadata": {},
     "output_type": "execute_result"
    }
   ],
   "source": [
    "Data_train['Año'].unique().tolist()"
   ]
  },
  {
   "cell_type": "markdown",
   "metadata": {},
   "source": [
    "## Conversión a datos mensuales:"
   ]
  },
  {
   "cell_type": "code",
   "execution_count": 9,
   "metadata": {
    "ExecuteTime": {
     "end_time": "2020-03-04T16:39:45.085022Z",
     "start_time": "2020-03-04T16:39:45.064078Z"
    }
   },
   "outputs": [],
   "source": [
    "del Data_train['ID'], Data_train['FECHA'], Data_train['FECHACADUCIDADEXISTENCIAS'], Data_train['Dia']"
   ]
  },
  {
   "cell_type": "markdown",
   "metadata": {},
   "source": [
    "### Train:"
   ]
  },
  {
   "cell_type": "code",
   "execution_count": 10,
   "metadata": {
    "ExecuteTime": {
     "end_time": "2020-03-04T16:40:18.574747Z",
     "start_time": "2020-03-04T16:39:45.090009Z"
    }
   },
   "outputs": [
    {
     "name": "stderr",
     "output_type": "stream",
     "text": [
      "C:\\Users\\816465\\AppData\\Local\\conda\\conda\\envs\\TensorFlow2\\lib\\site-packages\\ipykernel_launcher.py:1: FutureWarning: Interpreting tuple 'by' as a list of keys, rather than a single key. Use 'by=[...]' instead of 'by=(...)'. In the future, a tuple will always mean a single key.\n",
      "  \"\"\"Entry point for launching an IPython kernel.\n",
      "C:\\Users\\816465\\AppData\\Local\\conda\\conda\\envs\\TensorFlow2\\lib\\site-packages\\ipykernel_launcher.py:6: FutureWarning: Interpreting tuple 'by' as a list of keys, rather than a single key. Use 'by=[...]' instead of 'by=(...)'. In the future, a tuple will always mean a single key.\n",
      "  \n"
     ]
    },
    {
     "data": {
      "text/plain": [
       "(70816, 9)"
      ]
     },
     "execution_count": 10,
     "metadata": {},
     "output_type": "execute_result"
    }
   ],
   "source": [
    "ImporteSalidaSuma = (Data_train.groupby(('ARTICULO', 'CENTROCONSUMO', 'DESC_PROVINCIA', 'UBICACIONVIRTUAL', 'Año', 'Mes')) # Agrupar\n",
    "          .IMPORTESALIDA    # Quedarse con la columna packet_length\n",
    "          .apply(sum)       # Calcular su suma\n",
    "          .reset_index())   # Deshacer índice jerárquico\n",
    "\n",
    "CantidadSalidaSuma = (Data_train.groupby(('ARTICULO', 'CENTROCONSUMO', 'DESC_PROVINCIA','UBICACIONVIRTUAL', 'Año', 'Mes')) # Agrupar\n",
    "          .CANTIDADSALIDA    # Quedarse con la columna packet_length\n",
    "          .apply(sum)       # Calcular su suma\n",
    "          .reset_index())   # Deshacer índice jerárquico\n",
    "\n",
    "lista_cols = ['ARTICULO', 'CENTROCONSUMO', 'DESC_PROVINCIA', 'Año', 'Mes']\n",
    "Data_train_mensual = pd.merge(ImporteSalidaSuma, CantidadSalidaSuma,  how='inner', on= lista_cols)\n",
    "Data_train_mensual.shape"
   ]
  },
  {
   "cell_type": "code",
   "execution_count": 11,
   "metadata": {
    "ExecuteTime": {
     "end_time": "2020-03-04T16:40:18.622618Z",
     "start_time": "2020-03-04T16:40:18.577740Z"
    }
   },
   "outputs": [
    {
     "data": {
      "text/html": [
       "<div>\n",
       "<style scoped>\n",
       "    .dataframe tbody tr th:only-of-type {\n",
       "        vertical-align: middle;\n",
       "    }\n",
       "\n",
       "    .dataframe tbody tr th {\n",
       "        vertical-align: top;\n",
       "    }\n",
       "\n",
       "    .dataframe thead th {\n",
       "        text-align: right;\n",
       "    }\n",
       "</style>\n",
       "<table border=\"1\" class=\"dataframe\">\n",
       "  <thead>\n",
       "    <tr style=\"text-align: right;\">\n",
       "      <th></th>\n",
       "      <th>ARTICULO</th>\n",
       "      <th>CENTROCONSUMO</th>\n",
       "      <th>DESC_PROVINCIA</th>\n",
       "      <th>UBICACIONVIRTUAL_x</th>\n",
       "      <th>Año</th>\n",
       "      <th>Mes</th>\n",
       "      <th>IMPORTESALIDA</th>\n",
       "      <th>UBICACIONVIRTUAL_y</th>\n",
       "      <th>CANTIDADSALIDA</th>\n",
       "    </tr>\n",
       "  </thead>\n",
       "  <tbody>\n",
       "    <tr>\n",
       "      <td>0</td>\n",
       "      <td>-1073449806</td>\n",
       "      <td>1021</td>\n",
       "      <td>Granada</td>\n",
       "      <td>974</td>\n",
       "      <td>2012</td>\n",
       "      <td>3</td>\n",
       "      <td>1.324</td>\n",
       "      <td>974</td>\n",
       "      <td>2.0</td>\n",
       "    </tr>\n",
       "    <tr>\n",
       "      <td>1</td>\n",
       "      <td>-1073449806</td>\n",
       "      <td>9517</td>\n",
       "      <td>Granada</td>\n",
       "      <td>1069</td>\n",
       "      <td>2012</td>\n",
       "      <td>1</td>\n",
       "      <td>0.790</td>\n",
       "      <td>1069</td>\n",
       "      <td>2.0</td>\n",
       "    </tr>\n",
       "    <tr>\n",
       "      <td>2</td>\n",
       "      <td>-1073449806</td>\n",
       "      <td>9517</td>\n",
       "      <td>Granada</td>\n",
       "      <td>1069</td>\n",
       "      <td>2012</td>\n",
       "      <td>4</td>\n",
       "      <td>1.324</td>\n",
       "      <td>1069</td>\n",
       "      <td>2.0</td>\n",
       "    </tr>\n",
       "    <tr>\n",
       "      <td>3</td>\n",
       "      <td>-1073449806</td>\n",
       "      <td>9517</td>\n",
       "      <td>Granada</td>\n",
       "      <td>1069</td>\n",
       "      <td>2012</td>\n",
       "      <td>5</td>\n",
       "      <td>0.662</td>\n",
       "      <td>1069</td>\n",
       "      <td>1.0</td>\n",
       "    </tr>\n",
       "    <tr>\n",
       "      <td>4</td>\n",
       "      <td>-1073449806</td>\n",
       "      <td>9538</td>\n",
       "      <td>Granada</td>\n",
       "      <td>1276</td>\n",
       "      <td>2012</td>\n",
       "      <td>1</td>\n",
       "      <td>0.000</td>\n",
       "      <td>1276</td>\n",
       "      <td>0.0</td>\n",
       "    </tr>\n",
       "  </tbody>\n",
       "</table>\n",
       "</div>"
      ],
      "text/plain": [
       "     ARTICULO  CENTROCONSUMO DESC_PROVINCIA  UBICACIONVIRTUAL_x   Año  Mes  \\\n",
       "0 -1073449806           1021        Granada                 974  2012    3   \n",
       "1 -1073449806           9517        Granada                1069  2012    1   \n",
       "2 -1073449806           9517        Granada                1069  2012    4   \n",
       "3 -1073449806           9517        Granada                1069  2012    5   \n",
       "4 -1073449806           9538        Granada                1276  2012    1   \n",
       "\n",
       "   IMPORTESALIDA  UBICACIONVIRTUAL_y  CANTIDADSALIDA  \n",
       "0          1.324                 974             2.0  \n",
       "1          0.790                1069             2.0  \n",
       "2          1.324                1069             2.0  \n",
       "3          0.662                1069             1.0  \n",
       "4          0.000                1276             0.0  "
      ]
     },
     "execution_count": 11,
     "metadata": {},
     "output_type": "execute_result"
    }
   ],
   "source": [
    "Data_train_mensual.head()"
   ]
  },
  {
   "cell_type": "markdown",
   "metadata": {},
   "source": [
    "### Test"
   ]
  },
  {
   "cell_type": "code",
   "execution_count": 12,
   "metadata": {
    "ExecuteTime": {
     "end_time": "2020-03-04T16:40:18.647550Z",
     "start_time": "2020-03-04T16:40:18.625608Z"
    }
   },
   "outputs": [],
   "source": [
    "del Data_test['ID'], Data_test['FECHA'], Data_test['FECHACADUCIDADEXISTENCIAS'], Data_test['Dia']\n"
   ]
  },
  {
   "cell_type": "code",
   "execution_count": 13,
   "metadata": {
    "ExecuteTime": {
     "end_time": "2020-03-04T16:40:23.905290Z",
     "start_time": "2020-03-04T16:40:18.649543Z"
    }
   },
   "outputs": [
    {
     "name": "stderr",
     "output_type": "stream",
     "text": [
      "C:\\Users\\816465\\AppData\\Local\\conda\\conda\\envs\\TensorFlow2\\lib\\site-packages\\ipykernel_launcher.py:1: FutureWarning: Interpreting tuple 'by' as a list of keys, rather than a single key. Use 'by=[...]' instead of 'by=(...)'. In the future, a tuple will always mean a single key.\n",
      "  \"\"\"Entry point for launching an IPython kernel.\n"
     ]
    },
    {
     "data": {
      "text/plain": [
       "(23199, 7)"
      ]
     },
     "execution_count": 13,
     "metadata": {},
     "output_type": "execute_result"
    }
   ],
   "source": [
    "Data_test_mensual = (Data_test.groupby(('ARTICULO', 'CENTROCONSUMO', 'DESC_PROVINCIA', 'UBICACIONVIRTUAL', 'Año', 'Mes')) # Agrupar\n",
    "          .IMPORTESALIDA    # Quedarse con la columna IMPORTESALIDA\n",
    "          .apply(sum)       # Calcular su suma\n",
    "          .reset_index())   # Deshacer índice jerárquico\n",
    "Data_test_mensual.shape"
   ]
  },
  {
   "cell_type": "markdown",
   "metadata": {},
   "source": [
    "## Deficiencias"
   ]
  },
  {
   "cell_type": "code",
   "execution_count": 14,
   "metadata": {
    "ExecuteTime": {
     "end_time": "2020-03-04T16:40:23.913302Z",
     "start_time": "2020-03-04T16:40:23.907285Z"
    }
   },
   "outputs": [
    {
     "data": {
      "text/plain": [
       "20"
      ]
     },
     "execution_count": 14,
     "metadata": {},
     "output_type": "execute_result"
    }
   ],
   "source": [
    "len(Data_train_mensual['ARTICULO'].unique().tolist())"
   ]
  },
  {
   "cell_type": "code",
   "execution_count": 15,
   "metadata": {
    "ExecuteTime": {
     "end_time": "2020-03-04T16:40:23.926243Z",
     "start_time": "2020-03-04T16:40:23.914264Z"
    }
   },
   "outputs": [
    {
     "data": {
      "text/plain": [
       "11"
      ]
     },
     "execution_count": 15,
     "metadata": {},
     "output_type": "execute_result"
    }
   ],
   "source": [
    "len(Data_test_mensual['ARTICULO'].unique().tolist())"
   ]
  },
  {
   "cell_type": "code",
   "execution_count": 16,
   "metadata": {
    "ExecuteTime": {
     "end_time": "2020-03-04T16:40:23.947220Z",
     "start_time": "2020-03-04T16:40:23.929226Z"
    }
   },
   "outputs": [
    {
     "data": {
      "text/plain": [
       "1"
      ]
     },
     "execution_count": 16,
     "metadata": {},
     "output_type": "execute_result"
    }
   ],
   "source": [
    "l=[]\n",
    "for i in Data_test_mensual['ARTICULO'].unique().tolist():\n",
    "    if i not in Data_train_mensual['ARTICULO'].unique().tolist():\n",
    "        l.append(i)\n",
    "len(l)"
   ]
  },
  {
   "cell_type": "markdown",
   "metadata": {},
   "source": [
    "## Sort values and saving as csv"
   ]
  },
  {
   "cell_type": "code",
   "execution_count": 17,
   "metadata": {
    "ExecuteTime": {
     "end_time": "2020-03-04T16:40:24.641398Z",
     "start_time": "2020-03-04T16:40:23.949169Z"
    }
   },
   "outputs": [
    {
     "name": "stdout",
     "output_type": "stream",
     "text": [
      "(70816, 9)\n",
      "(70796, 8)\n"
     ]
    }
   ],
   "source": [
    "Data_train_mensual = Data_train_mensual.sort_values(['Año', 'Mes', 'CENTROCONSUMO' ])\n",
    "print(Data_train_mensual.shape)\n",
    "Data_train_mensual['UBICACIONVIRTUAL'] = Data_train_mensual['UBICACIONVIRTUAL_y'] \n",
    "del Data_train_mensual['UBICACIONVIRTUAL_y'], Data_train_mensual['UBICACIONVIRTUAL_x'] \n",
    "Data_train_mensual.drop_duplicates(keep='first',inplace=True) \n",
    "print(Data_train_mensual.shape)\n",
    "Data_train_mensual.to_csv('./csv/clean.csv')"
   ]
  },
  {
   "cell_type": "code",
   "execution_count": 18,
   "metadata": {
    "ExecuteTime": {
     "end_time": "2020-03-04T16:40:24.653322Z",
     "start_time": "2020-03-04T16:40:24.642350Z"
    }
   },
   "outputs": [
    {
     "data": {
      "text/html": [
       "<div>\n",
       "<style scoped>\n",
       "    .dataframe tbody tr th:only-of-type {\n",
       "        vertical-align: middle;\n",
       "    }\n",
       "\n",
       "    .dataframe tbody tr th {\n",
       "        vertical-align: top;\n",
       "    }\n",
       "\n",
       "    .dataframe thead th {\n",
       "        text-align: right;\n",
       "    }\n",
       "</style>\n",
       "<table border=\"1\" class=\"dataframe\">\n",
       "  <thead>\n",
       "    <tr style=\"text-align: right;\">\n",
       "      <th></th>\n",
       "      <th>ARTICULO</th>\n",
       "      <th>CENTROCONSUMO</th>\n",
       "      <th>DESC_PROVINCIA</th>\n",
       "      <th>Año</th>\n",
       "      <th>Mes</th>\n",
       "      <th>IMPORTESALIDA</th>\n",
       "      <th>CANTIDADSALIDA</th>\n",
       "      <th>UBICACIONVIRTUAL</th>\n",
       "    </tr>\n",
       "  </thead>\n",
       "  <tbody>\n",
       "    <tr>\n",
       "      <td>3569</td>\n",
       "      <td>-1073438649</td>\n",
       "      <td>17405</td>\n",
       "      <td>Córdoba</td>\n",
       "      <td>2008</td>\n",
       "      <td>1</td>\n",
       "      <td>0.3528</td>\n",
       "      <td>8.0</td>\n",
       "      <td>1851</td>\n",
       "    </tr>\n",
       "    <tr>\n",
       "      <td>3575</td>\n",
       "      <td>-1073438649</td>\n",
       "      <td>17407</td>\n",
       "      <td>Córdoba</td>\n",
       "      <td>2008</td>\n",
       "      <td>1</td>\n",
       "      <td>1.7640</td>\n",
       "      <td>40.0</td>\n",
       "      <td>1845</td>\n",
       "    </tr>\n",
       "    <tr>\n",
       "      <td>3580</td>\n",
       "      <td>-1073438649</td>\n",
       "      <td>17409</td>\n",
       "      <td>Córdoba</td>\n",
       "      <td>2008</td>\n",
       "      <td>1</td>\n",
       "      <td>1.7640</td>\n",
       "      <td>40.0</td>\n",
       "      <td>1848</td>\n",
       "    </tr>\n",
       "    <tr>\n",
       "      <td>3589</td>\n",
       "      <td>-1073438649</td>\n",
       "      <td>17414</td>\n",
       "      <td>Córdoba</td>\n",
       "      <td>2008</td>\n",
       "      <td>1</td>\n",
       "      <td>12.9213</td>\n",
       "      <td>293.0</td>\n",
       "      <td>1525</td>\n",
       "    </tr>\n",
       "    <tr>\n",
       "      <td>3633</td>\n",
       "      <td>-1073438649</td>\n",
       "      <td>17415</td>\n",
       "      <td>Córdoba</td>\n",
       "      <td>2008</td>\n",
       "      <td>1</td>\n",
       "      <td>2.6019</td>\n",
       "      <td>59.0</td>\n",
       "      <td>1526</td>\n",
       "    </tr>\n",
       "  </tbody>\n",
       "</table>\n",
       "</div>"
      ],
      "text/plain": [
       "        ARTICULO  CENTROCONSUMO DESC_PROVINCIA   Año  Mes  IMPORTESALIDA  \\\n",
       "3569 -1073438649          17405        Córdoba  2008    1         0.3528   \n",
       "3575 -1073438649          17407        Córdoba  2008    1         1.7640   \n",
       "3580 -1073438649          17409        Córdoba  2008    1         1.7640   \n",
       "3589 -1073438649          17414        Córdoba  2008    1        12.9213   \n",
       "3633 -1073438649          17415        Córdoba  2008    1         2.6019   \n",
       "\n",
       "      CANTIDADSALIDA  UBICACIONVIRTUAL  \n",
       "3569             8.0              1851  \n",
       "3575            40.0              1845  \n",
       "3580            40.0              1848  \n",
       "3589           293.0              1525  \n",
       "3633            59.0              1526  "
      ]
     },
     "execution_count": 18,
     "metadata": {},
     "output_type": "execute_result"
    }
   ],
   "source": [
    "Data_train_mensual.head()"
   ]
  },
  {
   "cell_type": "code",
   "execution_count": 19,
   "metadata": {
    "ExecuteTime": {
     "end_time": "2020-03-04T16:40:24.678288Z",
     "start_time": "2020-03-04T16:40:24.655317Z"
    }
   },
   "outputs": [
    {
     "data": {
      "text/html": [
       "<div>\n",
       "<style scoped>\n",
       "    .dataframe tbody tr th:only-of-type {\n",
       "        vertical-align: middle;\n",
       "    }\n",
       "\n",
       "    .dataframe tbody tr th {\n",
       "        vertical-align: top;\n",
       "    }\n",
       "\n",
       "    .dataframe thead th {\n",
       "        text-align: right;\n",
       "    }\n",
       "</style>\n",
       "<table border=\"1\" class=\"dataframe\">\n",
       "  <thead>\n",
       "    <tr style=\"text-align: right;\">\n",
       "      <th></th>\n",
       "      <th>ARTICULO</th>\n",
       "      <th>CENTROCONSUMO</th>\n",
       "      <th>DESC_PROVINCIA</th>\n",
       "      <th>Año</th>\n",
       "      <th>Mes</th>\n",
       "      <th>IMPORTESALIDA</th>\n",
       "      <th>CANTIDADSALIDA</th>\n",
       "      <th>UBICACIONVIRTUAL</th>\n",
       "    </tr>\n",
       "  </thead>\n",
       "  <tbody>\n",
       "    <tr>\n",
       "      <td>3569</td>\n",
       "      <td>-1073438649</td>\n",
       "      <td>17405</td>\n",
       "      <td>Córdoba</td>\n",
       "      <td>2008</td>\n",
       "      <td>1</td>\n",
       "      <td>0.3528</td>\n",
       "      <td>8.0</td>\n",
       "      <td>1851</td>\n",
       "    </tr>\n",
       "    <tr>\n",
       "      <td>3575</td>\n",
       "      <td>-1073438649</td>\n",
       "      <td>17407</td>\n",
       "      <td>Córdoba</td>\n",
       "      <td>2008</td>\n",
       "      <td>1</td>\n",
       "      <td>1.7640</td>\n",
       "      <td>40.0</td>\n",
       "      <td>1845</td>\n",
       "    </tr>\n",
       "    <tr>\n",
       "      <td>3580</td>\n",
       "      <td>-1073438649</td>\n",
       "      <td>17409</td>\n",
       "      <td>Córdoba</td>\n",
       "      <td>2008</td>\n",
       "      <td>1</td>\n",
       "      <td>1.7640</td>\n",
       "      <td>40.0</td>\n",
       "      <td>1848</td>\n",
       "    </tr>\n",
       "    <tr>\n",
       "      <td>3589</td>\n",
       "      <td>-1073438649</td>\n",
       "      <td>17414</td>\n",
       "      <td>Córdoba</td>\n",
       "      <td>2008</td>\n",
       "      <td>1</td>\n",
       "      <td>12.9213</td>\n",
       "      <td>293.0</td>\n",
       "      <td>1525</td>\n",
       "    </tr>\n",
       "    <tr>\n",
       "      <td>3633</td>\n",
       "      <td>-1073438649</td>\n",
       "      <td>17415</td>\n",
       "      <td>Córdoba</td>\n",
       "      <td>2008</td>\n",
       "      <td>1</td>\n",
       "      <td>2.6019</td>\n",
       "      <td>59.0</td>\n",
       "      <td>1526</td>\n",
       "    </tr>\n",
       "  </tbody>\n",
       "</table>\n",
       "</div>"
      ],
      "text/plain": [
       "        ARTICULO  CENTROCONSUMO DESC_PROVINCIA   Año  Mes  IMPORTESALIDA  \\\n",
       "3569 -1073438649          17405        Córdoba  2008    1         0.3528   \n",
       "3575 -1073438649          17407        Córdoba  2008    1         1.7640   \n",
       "3580 -1073438649          17409        Córdoba  2008    1         1.7640   \n",
       "3589 -1073438649          17414        Córdoba  2008    1        12.9213   \n",
       "3633 -1073438649          17415        Córdoba  2008    1         2.6019   \n",
       "\n",
       "      CANTIDADSALIDA  UBICACIONVIRTUAL  \n",
       "3569             8.0              1851  \n",
       "3575            40.0              1845  \n",
       "3580            40.0              1848  \n",
       "3589           293.0              1525  \n",
       "3633            59.0              1526  "
      ]
     },
     "execution_count": 19,
     "metadata": {},
     "output_type": "execute_result"
    }
   ],
   "source": [
    "Data_train_mensual.head()"
   ]
  },
  {
   "cell_type": "markdown",
   "metadata": {},
   "source": [
    "## Nuevas variables"
   ]
  },
  {
   "cell_type": "markdown",
   "metadata": {},
   "source": [
    "### Horas de Sol y precipitaciones:"
   ]
  },
  {
   "cell_type": "code",
   "execution_count": 20,
   "metadata": {
    "ExecuteTime": {
     "end_time": "2020-03-04T16:40:27.645164Z",
     "start_time": "2020-03-04T16:40:24.680248Z"
    }
   },
   "outputs": [
    {
     "name": "stdout",
     "output_type": "stream",
     "text": [
      "(70796, 8)\n",
      "Saving dataset to ./csv/clean_lluvia.csv\n"
     ]
    }
   ],
   "source": [
    "# Identfy the file location of the master dataset\n",
    "I_data_path = './csv/clean.csv' \n",
    "\n",
    "# Define file name of output .csv file\n",
    "I_out_filename = 'clean_lluvia'\n",
    "I_data_tiempo = './csv/lluvia/'\n",
    "\n",
    "pd_tiempo, Data_train_lluvia = tiempo(I_data_path, I_out_filename, I_data_tiempo)"
   ]
  },
  {
   "cell_type": "code",
   "execution_count": 21,
   "metadata": {
    "ExecuteTime": {
     "end_time": "2020-03-04T16:40:27.651118Z",
     "start_time": "2020-03-04T16:40:27.646130Z"
    }
   },
   "outputs": [
    {
     "data": {
      "text/plain": [
       "(960, 6)"
      ]
     },
     "execution_count": 21,
     "metadata": {},
     "output_type": "execute_result"
    }
   ],
   "source": [
    "pd_tiempo.shape"
   ]
  },
  {
   "cell_type": "code",
   "execution_count": 22,
   "metadata": {
    "ExecuteTime": {
     "end_time": "2020-03-04T16:40:27.664153Z",
     "start_time": "2020-03-04T16:40:27.653197Z"
    }
   },
   "outputs": [
    {
     "data": {
      "text/plain": [
       "10.909090909090908"
      ]
     },
     "execution_count": 22,
     "metadata": {},
     "output_type": "execute_result"
    }
   ],
   "source": [
    "960/(8*11)"
   ]
  },
  {
   "cell_type": "code",
   "execution_count": 23,
   "metadata": {
    "ExecuteTime": {
     "end_time": "2020-03-04T16:40:27.681290Z",
     "start_time": "2020-03-04T16:40:27.666145Z"
    }
   },
   "outputs": [
    {
     "data": {
      "text/html": [
       "<div>\n",
       "<style scoped>\n",
       "    .dataframe tbody tr th:only-of-type {\n",
       "        vertical-align: middle;\n",
       "    }\n",
       "\n",
       "    .dataframe tbody tr th {\n",
       "        vertical-align: top;\n",
       "    }\n",
       "\n",
       "    .dataframe thead th {\n",
       "        text-align: right;\n",
       "    }\n",
       "</style>\n",
       "<table border=\"1\" class=\"dataframe\">\n",
       "  <thead>\n",
       "    <tr style=\"text-align: right;\">\n",
       "      <th></th>\n",
       "      <th>ARTICULO</th>\n",
       "      <th>CENTROCONSUMO</th>\n",
       "      <th>DESC_PROVINCIA</th>\n",
       "      <th>Año</th>\n",
       "      <th>Mes</th>\n",
       "      <th>IMPORTESALIDA</th>\n",
       "      <th>CANTIDADSALIDA</th>\n",
       "      <th>UBICACIONVIRTUAL</th>\n",
       "      <th>Horas_Sol</th>\n",
       "      <th>Precipitacion</th>\n",
       "    </tr>\n",
       "  </thead>\n",
       "  <tbody>\n",
       "    <tr>\n",
       "      <td>0</td>\n",
       "      <td>-1073438649</td>\n",
       "      <td>17405</td>\n",
       "      <td>Córdoba</td>\n",
       "      <td>2008</td>\n",
       "      <td>1</td>\n",
       "      <td>0.3528</td>\n",
       "      <td>8.0</td>\n",
       "      <td>1851</td>\n",
       "      <td>171.5</td>\n",
       "      <td>70.0</td>\n",
       "    </tr>\n",
       "    <tr>\n",
       "      <td>1</td>\n",
       "      <td>-1073438649</td>\n",
       "      <td>17407</td>\n",
       "      <td>Córdoba</td>\n",
       "      <td>2008</td>\n",
       "      <td>1</td>\n",
       "      <td>1.7640</td>\n",
       "      <td>40.0</td>\n",
       "      <td>1845</td>\n",
       "      <td>171.5</td>\n",
       "      <td>70.0</td>\n",
       "    </tr>\n",
       "    <tr>\n",
       "      <td>2</td>\n",
       "      <td>-1073438649</td>\n",
       "      <td>17409</td>\n",
       "      <td>Córdoba</td>\n",
       "      <td>2008</td>\n",
       "      <td>1</td>\n",
       "      <td>1.7640</td>\n",
       "      <td>40.0</td>\n",
       "      <td>1848</td>\n",
       "      <td>171.5</td>\n",
       "      <td>70.0</td>\n",
       "    </tr>\n",
       "    <tr>\n",
       "      <td>3</td>\n",
       "      <td>-1073438649</td>\n",
       "      <td>17414</td>\n",
       "      <td>Córdoba</td>\n",
       "      <td>2008</td>\n",
       "      <td>1</td>\n",
       "      <td>12.9213</td>\n",
       "      <td>293.0</td>\n",
       "      <td>1525</td>\n",
       "      <td>171.5</td>\n",
       "      <td>70.0</td>\n",
       "    </tr>\n",
       "    <tr>\n",
       "      <td>4</td>\n",
       "      <td>-1073438649</td>\n",
       "      <td>17415</td>\n",
       "      <td>Córdoba</td>\n",
       "      <td>2008</td>\n",
       "      <td>1</td>\n",
       "      <td>2.6019</td>\n",
       "      <td>59.0</td>\n",
       "      <td>1526</td>\n",
       "      <td>171.5</td>\n",
       "      <td>70.0</td>\n",
       "    </tr>\n",
       "  </tbody>\n",
       "</table>\n",
       "</div>"
      ],
      "text/plain": [
       "     ARTICULO  CENTROCONSUMO DESC_PROVINCIA   Año  Mes  IMPORTESALIDA  \\\n",
       "0 -1073438649          17405        Córdoba  2008    1         0.3528   \n",
       "1 -1073438649          17407        Córdoba  2008    1         1.7640   \n",
       "2 -1073438649          17409        Córdoba  2008    1         1.7640   \n",
       "3 -1073438649          17414        Córdoba  2008    1        12.9213   \n",
       "4 -1073438649          17415        Córdoba  2008    1         2.6019   \n",
       "\n",
       "   CANTIDADSALIDA  UBICACIONVIRTUAL  Horas_Sol  Precipitacion  \n",
       "0             8.0              1851      171.5           70.0  \n",
       "1            40.0              1845      171.5           70.0  \n",
       "2            40.0              1848      171.5           70.0  \n",
       "3           293.0              1525      171.5           70.0  \n",
       "4            59.0              1526      171.5           70.0  "
      ]
     },
     "execution_count": 23,
     "metadata": {},
     "output_type": "execute_result"
    }
   ],
   "source": [
    "Data_train_lluvia.head()"
   ]
  },
  {
   "cell_type": "markdown",
   "metadata": {},
   "source": [
    "### Temperatura"
   ]
  },
  {
   "cell_type": "code",
   "execution_count": null,
   "metadata": {
    "ExecuteTime": {
     "start_time": "2020-03-04T16:37:06.308Z"
    }
   },
   "outputs": [
    {
     "name": "stdout",
     "output_type": "stream",
     "text": [
      "(70796, 10)\n"
     ]
    }
   ],
   "source": [
    "# Identfy the file location of the master dataset\n",
    "I_data_path = './csv/clean_lluvia.csv' \n",
    "\n",
    "# Define file name of output .csv file\n",
    "I_out_filename = 'clean_temperatura'\n",
    "I_data_tiempo = './csv/Temperatura/'\n",
    "\n",
    "pd_temp, Data_train_temp = temperatura(I_data_path, I_out_filename, I_data_tiempo)"
   ]
  },
  {
   "cell_type": "code",
   "execution_count": null,
   "metadata": {
    "ExecuteTime": {
     "start_time": "2020-03-04T16:37:06.338Z"
    }
   },
   "outputs": [],
   "source": [
    "pd_temp"
   ]
  },
  {
   "cell_type": "code",
   "execution_count": null,
   "metadata": {
    "ExecuteTime": {
     "start_time": "2020-03-04T16:37:06.345Z"
    }
   },
   "outputs": [],
   "source": [
    "Data_train_temp.tail()"
   ]
  },
  {
   "cell_type": "markdown",
   "metadata": {},
   "source": [
    "### Presión:"
   ]
  },
  {
   "cell_type": "code",
   "execution_count": null,
   "metadata": {
    "ExecuteTime": {
     "start_time": "2020-03-04T16:37:06.348Z"
    }
   },
   "outputs": [],
   "source": [
    "# Identfy the file location of the master dataset\n",
    "I_data_path = './csv/clean_temperatura.csv' \n",
    "\n",
    "# Define file name of output .csv file\n",
    "I_out_filename = 'clean_presion'\n",
    "\n",
    "I_data_Presion = './csv/Presion/'\n",
    "\n",
    "pd_Presion, Data_train_Presion = Presion(I_data_path, I_out_filename, I_data_Presion)"
   ]
  },
  {
   "cell_type": "code",
   "execution_count": null,
   "metadata": {
    "ExecuteTime": {
     "start_time": "2020-03-04T16:37:06.352Z"
    }
   },
   "outputs": [],
   "source": [
    "Data_train_Presion.head()"
   ]
  },
  {
   "cell_type": "code",
   "execution_count": null,
   "metadata": {
    "ExecuteTime": {
     "start_time": "2020-03-04T16:37:06.357Z"
    }
   },
   "outputs": [],
   "source": [
    "pd_Presion.head()"
   ]
  },
  {
   "cell_type": "markdown",
   "metadata": {},
   "source": [
    "### Viento:"
   ]
  },
  {
   "cell_type": "code",
   "execution_count": null,
   "metadata": {
    "ExecuteTime": {
     "start_time": "2020-03-04T16:37:06.360Z"
    }
   },
   "outputs": [],
   "source": [
    "# Identfy the file location of the master dataset\n",
    "I_data_path = './csv/clean_presion.csv' \n",
    "\n",
    "# Define file name of output .csv file\n",
    "I_out_filename = 'clean_viento'\n",
    "\n",
    "I_data_viento = './csv/Viento/'\n",
    "\n",
    "pd_viento, Data_train_Viento = Viento(I_data_path, I_out_filename, I_data_viento)"
   ]
  },
  {
   "cell_type": "code",
   "execution_count": null,
   "metadata": {
    "ExecuteTime": {
     "start_time": "2020-03-04T16:37:06.364Z"
    }
   },
   "outputs": [],
   "source": [
    "pd_viento.head()"
   ]
  },
  {
   "cell_type": "markdown",
   "metadata": {},
   "source": [
    "### Centro de Consumo string:"
   ]
  },
  {
   "cell_type": "code",
   "execution_count": null,
   "metadata": {
    "ExecuteTime": {
     "start_time": "2020-03-04T16:37:06.369Z"
    }
   },
   "outputs": [],
   "source": [
    "Data = Data_train_Viento.copy()\n",
    "Data['CENTROCONSUMO'] = Data['CENTROCONSUMO'].astype(str)\n",
    "Data['CENTROCONSUMO_str'] = [i[0:3] for i in Data['CENTROCONSUMO']]\n",
    "Data_train_Densidad = Data"
   ]
  },
  {
   "cell_type": "markdown",
   "metadata": {},
   "source": [
    "### Densidad"
   ]
  },
  {
   "cell_type": "code",
   "execution_count": null,
   "metadata": {
    "ExecuteTime": {
     "start_time": "2020-03-04T16:37:06.373Z"
    }
   },
   "outputs": [],
   "source": [
    "# # Identfy the file location of the master dataset\n",
    "# I_data_path = './csv/clean_master_lluvia.csv' \n",
    "\n",
    "# # Define file name of output .csv file\n",
    "# I_out_filename = 'clean_master_temperatura'\n",
    "\n",
    "# I_data_densidad = './csv/Densidad_poblacion/'\n",
    "\n",
    "# Densidad_df, Data_train_densidad = densidad(I_data_path, I_out_filename, I_data_densidad)"
   ]
  },
  {
   "cell_type": "code",
   "execution_count": null,
   "metadata": {
    "ExecuteTime": {
     "start_time": "2020-03-04T16:37:06.376Z"
    }
   },
   "outputs": [],
   "source": [
    "Master = Data_train_Densidad.copy()\n",
    "Master.to_csv('./csv/Master.csv')"
   ]
  },
  {
   "cell_type": "markdown",
   "metadata": {},
   "source": [
    "# Limpieza"
   ]
  },
  {
   "cell_type": "code",
   "execution_count": null,
   "metadata": {
    "ExecuteTime": {
     "start_time": "2020-03-04T16:37:06.380Z"
    }
   },
   "outputs": [],
   "source": [
    "Master.isnull().sum()"
   ]
  },
  {
   "cell_type": "markdown",
   "metadata": {},
   "source": [
    "## Imputación de valores perdidos"
   ]
  },
  {
   "cell_type": "markdown",
   "metadata": {},
   "source": [
    "### Temp_Max y Temp_Min:"
   ]
  },
  {
   "cell_type": "code",
   "execution_count": null,
   "metadata": {
    "ExecuteTime": {
     "start_time": "2020-03-04T16:37:06.394Z"
    }
   },
   "outputs": [],
   "source": [
    "Master.loc[Master['Temp_Min'].isnull()]"
   ]
  },
  {
   "cell_type": "code",
   "execution_count": null,
   "metadata": {
    "ExecuteTime": {
     "start_time": "2020-03-04T16:37:06.398Z"
    }
   },
   "outputs": [],
   "source": [
    "index_empty = Master.loc[Master['Temp_Max'].isnull()].index.tolist()\n",
    "for i in index_empty:\n",
    "    A = (Master[\"CENTROCONSUMO\"] == Master[\"CENTROCONSUMO\"][i])\n",
    "    B = (Master[\"Mes\"] == Master[\"Mes\"][i])\n",
    "    average_Temp_Max = Master.loc[A & B]['Temp_Max'].mean()\n",
    "    average_Temp_Max_Tot = Master['Temp_Max'].mean()\n",
    "    average_Temp_Min = Master.loc[A & B]['Temp_Min'].mean()\n",
    "    average_Temp_Min_Tot = Master['Temp_Max'].mean()\n",
    "    if np.isnan(average_Temp_Max):\n",
    "        Master['Temp_Max'][i] = average_Temp_Max_Tot\n",
    "        Master['Temp_Min'][i] = average_Temp_Min_Tot\n",
    "    else:\n",
    "        Master['Temp_Max'][i] = average_Temp_Max\n",
    "        Master['Temp_Min'][i] = average_Temp_Min"
   ]
  },
  {
   "cell_type": "code",
   "execution_count": null,
   "metadata": {
    "ExecuteTime": {
     "start_time": "2020-03-04T16:37:06.403Z"
    }
   },
   "outputs": [],
   "source": [
    "Master.isnull().sum()"
   ]
  },
  {
   "cell_type": "markdown",
   "metadata": {},
   "source": [
    "## Save as csv"
   ]
  },
  {
   "cell_type": "code",
   "execution_count": null,
   "metadata": {
    "ExecuteTime": {
     "start_time": "2020-03-04T16:37:06.406Z"
    }
   },
   "outputs": [],
   "source": [
    "Master.to_csv('./csv/Master_clean.csv')"
   ]
  },
  {
   "cell_type": "markdown",
   "metadata": {},
   "source": [
    "# Análisis exploratorio"
   ]
  },
  {
   "cell_type": "markdown",
   "metadata": {},
   "source": [
    "## Mapas:"
   ]
  },
  {
   "cell_type": "code",
   "execution_count": null,
   "metadata": {
    "ExecuteTime": {
     "start_time": "2020-03-04T16:37:06.410Z"
    }
   },
   "outputs": [],
   "source": [
    "coord_path = \"./csv/listado-longitud-latitud-municipios-espana.xls\"\n",
    "TypeData = Data_train"
   ]
  },
  {
   "cell_type": "markdown",
   "metadata": {},
   "source": [
    "### Total:"
   ]
  },
  {
   "cell_type": "code",
   "execution_count": null,
   "metadata": {
    "ExecuteTime": {
     "start_time": "2020-03-04T16:37:06.415Z"
    }
   },
   "outputs": [],
   "source": [
    "m = plot_map(coord_path, TypeData, Año = 'Total')\n",
    "m"
   ]
  },
  {
   "cell_type": "markdown",
   "metadata": {},
   "source": [
    "### Por años:"
   ]
  },
  {
   "cell_type": "code",
   "execution_count": null,
   "metadata": {
    "ExecuteTime": {
     "start_time": "2020-03-04T16:37:06.419Z"
    }
   },
   "outputs": [],
   "source": [
    "for Año in Data_train['Año'].unique().tolist():\n",
    "    m = plot_map(coord_path, TypeData, Año)\n",
    "m"
   ]
  },
  {
   "cell_type": "markdown",
   "metadata": {},
   "source": [
    "# One hot encoding"
   ]
  },
  {
   "cell_type": "code",
   "execution_count": null,
   "metadata": {
    "ExecuteTime": {
     "start_time": "2020-03-04T16:37:06.424Z"
    }
   },
   "outputs": [],
   "source": [
    "# Identfy the file location of the master dataset\n",
    "I_data_path = './csv/Master_clean.csv' \n",
    "\n",
    "# Define file name of output .csv file\n",
    "I_out_filename = 'clean_master_dummies_Big'\n",
    "\n",
    "# Max number of dummies for each feature allowed (if ones have less that Max, those features will be removed)\n",
    "Max = float('inf') #to delete this bound\n",
    "\n",
    "# Function\n",
    "pd_Master_dummies1 = Master_dummies(I_data_path, I_out_filename, Max)"
   ]
  },
  {
   "cell_type": "code",
   "execution_count": null,
   "metadata": {
    "ExecuteTime": {
     "start_time": "2020-03-04T16:37:06.428Z"
    }
   },
   "outputs": [],
   "source": [
    "# Identfy the file location of the master dataset\n",
    "I_data_path = './csv/Master_clean.csv' \n",
    "\n",
    "# Define file name of output .csv file\n",
    "I_out_filename = 'clean_master_dummies_Medium'\n",
    "\n",
    "# Max number of dummies for each feature allowed (if ones have less that Max, those features will be removed)\n",
    "Max = 2000  \n",
    "\n",
    "# Function\n",
    "pd_Master_dummies2 = Master_dummies(I_data_path, I_out_filename, Max)"
   ]
  },
  {
   "cell_type": "code",
   "execution_count": null,
   "metadata": {
    "ExecuteTime": {
     "start_time": "2020-03-04T16:37:06.432Z"
    },
    "scrolled": true
   },
   "outputs": [],
   "source": [
    "# Identfy the file location of the master dataset\n",
    "I_data_path = './csv/Master_clean.csv' \n",
    "\n",
    "# Define file name of output .csv file\n",
    "I_out_filename = 'clean_master_dummies_shorter'\n",
    "\n",
    "# Max number of dummies for each feature allowed (if ones have less that Max, those features will be removed)\n",
    "Max = 50  \n",
    "\n",
    "# Function\n",
    "pd_Master_dummies3 = Master_dummies(I_data_path, I_out_filename, Max)"
   ]
  },
  {
   "cell_type": "markdown",
   "metadata": {},
   "source": [
    "# Modelo"
   ]
  },
  {
   "cell_type": "markdown",
   "metadata": {},
   "source": [
    "## Short:"
   ]
  },
  {
   "cell_type": "code",
   "execution_count": null,
   "metadata": {
    "ExecuteTime": {
     "start_time": "2020-03-04T16:37:06.438Z"
    },
    "code_folding": []
   },
   "outputs": [],
   "source": [
    "# Identfy the file location of the master dataset\n",
    "I_data_path = './csv/clean_master_dummies_shorter.csv' \n",
    "I_Model_path = './3_4_2020/Short/128'\n",
    "\n",
    "# Parameters\n",
    "k = 4\n",
    "num_epochs = 100\n",
    "batch_Size = 128\n",
    "Verbose = 0  #1 ó 0\n",
    "\n",
    "# Types of Models (Possibilities: 1 to 6, you can choose how many you want e.g: [2,3,1,6])\n",
    "NNTList = [1,2,3,4,5,6]  \n",
    "\n",
    "# Function\n",
    "train_data, train_targets, test_data, test_targets = NNTRegressor(I_data_path, I_Model_path, k, num_epochs, \n",
    "                                                                  batch_Size, Verbose, NNTList)"
   ]
  },
  {
   "cell_type": "code",
   "execution_count": null,
   "metadata": {
    "ExecuteTime": {
     "start_time": "2020-03-04T16:37:06.441Z"
    }
   },
   "outputs": [],
   "source": [
    "# Identfy the file location of the master dataset\n",
    "I_data_path = './csv/clean_master_dummies_shorter.csv' \n",
    "I_Model_path = './3_5_2020/Short/16'\n",
    "\n",
    "# Parameters\n",
    "k = 4\n",
    "num_epochs = 100\n",
    "batch_Size = 16\n",
    "Verbose = 0  #1 ó 0\n",
    "\n",
    "# Types of Models (Possibilities: 1 to 6, you can choose how many you want e.g: [2,3,1,6])\n",
    "NNTList = [1, 2, 3, 4, 5, 6]  \n",
    "\n",
    "# Function\n",
    "train_data, train_targets, test_data, test_targets = NNTRegressor(I_data_path, I_Model_path, k, num_epochs, \n",
    "                                                                  batch_Size, Verbose, NNTList)"
   ]
  },
  {
   "cell_type": "markdown",
   "metadata": {},
   "source": [
    "## Medium:"
   ]
  },
  {
   "cell_type": "code",
   "execution_count": null,
   "metadata": {
    "ExecuteTime": {
     "start_time": "2020-03-04T16:37:06.444Z"
    }
   },
   "outputs": [],
   "source": [
    "# Identfy the file location of the master dataset\n",
    "I_data_path = './csv/clean_master_dummies_Medium.csv' \n",
    "I_Model_path = './3_4_2020/Medium/128'\n",
    "\n",
    "# Parameters\n",
    "k = 4\n",
    "num_epochs = 100\n",
    "batch_Size = 128\n",
    "Verbose = 0  #1 ó 0\n",
    "\n",
    "# Types of Models (Possibilities: 1 to 6, you can choose how many you want e.g: [2,3,1,6])\n",
    "NNTList = [1,2,3,4,5,6]  \n",
    "\n",
    "# Function\n",
    "train_data, train_targets, test_data, test_targets = NNTRegressor(I_data_path, I_Model_path, k, num_epochs, \n",
    "                                                                  batch_Size, Verbose, NNTList)"
   ]
  },
  {
   "cell_type": "markdown",
   "metadata": {},
   "source": [
    "## Big:"
   ]
  },
  {
   "cell_type": "code",
   "execution_count": null,
   "metadata": {
    "ExecuteTime": {
     "start_time": "2020-03-04T16:37:06.448Z"
    }
   },
   "outputs": [],
   "source": [
    "# Identfy the file location of the master dataset\n",
    "I_data_path = './csv/clean_master_dummies_Big.csv' \n",
    "I_Model_path = './3_4_2020/Big/128'\n",
    "\n",
    "# Parameters\n",
    "k = 4\n",
    "num_epochs = 100\n",
    "batch_Size = 128\n",
    "Verbose = 0  #1 ó 0\n",
    "\n",
    "# Types of Models (Possibilities: 1 to 6, you can choose how many you want e.g: [2,3,1,6])\n",
    "NNTList = [1,2,3,4,5,6]  \n",
    "\n",
    "# Function\n",
    "train_data, train_targets, test_data, test_targets = NNTRegressor(I_data_path, I_Model_path, k, num_epochs, \n",
    "                                                                  batch_Size, Verbose, NNTList)"
   ]
  }
 ],
 "metadata": {
  "kernelspec": {
   "display_name": "Python 3",
   "language": "python",
   "name": "python3"
  },
  "language_info": {
   "codemirror_mode": {
    "name": "ipython",
    "version": 3
   },
   "file_extension": ".py",
   "mimetype": "text/x-python",
   "name": "python",
   "nbconvert_exporter": "python",
   "pygments_lexer": "ipython3",
   "version": "3.6.9"
  },
  "toc": {
   "base_numbering": 1,
   "nav_menu": {},
   "number_sections": true,
   "sideBar": true,
   "skip_h1_title": false,
   "title_cell": "Table of Contents",
   "title_sidebar": "Contents",
   "toc_cell": false,
   "toc_position": {},
   "toc_section_display": true,
   "toc_window_display": false
  },
  "varInspector": {
   "cols": {
    "lenName": 16,
    "lenType": 16,
    "lenVar": 40
   },
   "kernels_config": {
    "python": {
     "delete_cmd_postfix": "",
     "delete_cmd_prefix": "del ",
     "library": "var_list.py",
     "varRefreshCmd": "print(var_dic_list())"
    },
    "r": {
     "delete_cmd_postfix": ") ",
     "delete_cmd_prefix": "rm(",
     "library": "var_list.r",
     "varRefreshCmd": "cat(var_dic_list()) "
    }
   },
   "oldHeight": 523,
   "position": {
    "height": "211px",
    "left": "996px",
    "right": "20px",
    "top": "120px",
    "width": "289px"
   },
   "types_to_exclude": [
    "module",
    "function",
    "builtin_function_or_method",
    "instance",
    "_Feature"
   ],
   "varInspector_section_display": "none",
   "window_display": false
  }
 },
 "nbformat": 4,
 "nbformat_minor": 2
}
