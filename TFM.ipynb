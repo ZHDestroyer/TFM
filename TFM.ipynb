{
 "cells": [
  {
   "cell_type": "markdown",
   "metadata": {},
   "source": [
    "# Packages"
   ]
  },
  {
   "cell_type": "code",
   "execution_count": 1,
   "metadata": {},
   "outputs": [
    {
     "name": "stderr",
     "output_type": "stream",
     "text": [
      "Using TensorFlow backend.\n"
     ]
    }
   ],
   "source": [
    "import pandas as pd\n",
    "import numpy as np\n",
    "import os\n",
    "import time\n",
    "import folium\n",
    "\n",
    "import keras\n",
    "\n",
    "import matplotlib.pyplot as plt\n",
    "%matplotlib inline\n",
    "import matplotlib.ticker as ticker\n",
    "from matplotlib.ticker import PercentFormatter\n",
    "\n",
    "pd.options.display.max_columns = None\n",
    "pd.options.display.max_rows = None"
   ]
  },
  {
   "cell_type": "code",
   "execution_count": 2,
   "metadata": {},
   "outputs": [],
   "source": [
    "from lib_Map import plot_map"
   ]
  },
  {
   "cell_type": "markdown",
   "metadata": {},
   "source": [
    "# Load data"
   ]
  },
  {
   "cell_type": "code",
   "execution_count": 3,
   "metadata": {},
   "outputs": [
    {
     "name": "stdout",
     "output_type": "stream",
     "text": [
      "(440806, 10)\n",
      "(148931, 9)\n"
     ]
    }
   ],
   "source": [
    "Data_train = pd.read_excel(\"./csv/Modelo de Consumo Predictivo.xlsx\", sheet_name = \"Data\")\n",
    "print(Data_train.shape)\n",
    "Data_test = pd.read_excel(\"./csv/Modelo de Consumo Predictivo.xlsx\", sheet_name = \"Eval\")\n",
    "print(Data_test.shape)"
   ]
  },
  {
   "cell_type": "code",
   "execution_count": 4,
   "metadata": {},
   "outputs": [
    {
     "data": {
      "text/plain": [
       "Index(['ID', 'ARTICULO', 'FECHA', 'CENTROCONSUMO', 'UBICACIONVIRTUAL',\n",
       "       'ID_ORGANOGESTOR', 'DESC_PROVINCIA', 'FECHACADUCIDADEXISTENCIAS',\n",
       "       'IMPORTESALIDA', 'CANTIDADSALIDA'],\n",
       "      dtype='object')"
      ]
     },
     "execution_count": 4,
     "metadata": {},
     "output_type": "execute_result"
    }
   ],
   "source": [
    "Data_train.columns"
   ]
  },
  {
   "cell_type": "code",
   "execution_count": 5,
   "metadata": {},
   "outputs": [
    {
     "data": {
      "text/plain": [
       "Index(['ID', 'ARTICULO', 'FECHA', 'CENTROCONSUMO', 'UBICACIONVIRTUAL',\n",
       "       'ID_ORGANOGESTOR', 'DESC_PROVINCIA', 'FECHACADUCIDADEXISTENCIAS',\n",
       "       'IMPORTESALIDA'],\n",
       "      dtype='object')"
      ]
     },
     "execution_count": 5,
     "metadata": {},
     "output_type": "execute_result"
    }
   ],
   "source": [
    "Data_test.columns"
   ]
  },
  {
   "cell_type": "markdown",
   "metadata": {},
   "source": [
    "### Separación año, mes y día:"
   ]
  },
  {
   "cell_type": "code",
   "execution_count": 6,
   "metadata": {},
   "outputs": [],
   "source": [
    "Data_train['Año'] = [i.year for i in Data_train['FECHA']]\n",
    "Data_train['Mes'] = [i.month for i in Data_train['FECHA']]\n",
    "Data_train['Dia'] = [i.day for i in Data_train['FECHA']]\n",
    "\n",
    "Data_test['Año'] = [i.year for i in Data_test['FECHA']]\n",
    "Data_test['Mes'] = [i.month for i in Data_test['FECHA']]\n",
    "Data_test['Dia'] = [i.day for i in Data_test['FECHA']]"
   ]
  },
  {
   "cell_type": "markdown",
   "metadata": {},
   "source": [
    "## Data test y train mensuales:"
   ]
  },
  {
   "cell_type": "markdown",
   "metadata": {},
   "source": [
    "### Train:"
   ]
  },
  {
   "cell_type": "code",
   "execution_count": 7,
   "metadata": {},
   "outputs": [],
   "source": [
    "del Data_train['ID'], Data_train['FECHA'], Data_train['FECHACADUCIDADEXISTENCIAS'], Data_train['Dia'], Data_train['UBICACIONVIRTUAL']\n"
   ]
  },
  {
   "cell_type": "code",
   "execution_count": 9,
   "metadata": {},
   "outputs": [
    {
     "name": "stderr",
     "output_type": "stream",
     "text": [
      "C:\\Users\\victo\\Anaconda3\\envs\\baseFSA\\lib\\site-packages\\ipykernel_launcher.py:1: FutureWarning: Interpreting tuple 'by' as a list of keys, rather than a single key. Use 'by=[...]' instead of 'by=(...)'. In the future, a tuple will always mean a single key.\n",
      "  \"\"\"Entry point for launching an IPython kernel.\n",
      "C:\\Users\\victo\\Anaconda3\\envs\\baseFSA\\lib\\site-packages\\ipykernel_launcher.py:6: FutureWarning: Interpreting tuple 'by' as a list of keys, rather than a single key. Use 'by=[...]' instead of 'by=(...)'. In the future, a tuple will always mean a single key.\n",
      "  \n"
     ]
    }
   ],
   "source": [
    "ImporteSalidaSuma = (Data_train.groupby(('ARTICULO', 'CENTROCONSUMO', 'ID_ORGANOGESTOR', 'DESC_PROVINCIA', 'Año', 'Mes')) # Agrupar\n",
    "          .IMPORTESALIDA    # Quedarse con la columna packet_length\n",
    "          .apply(sum)       # Calcular su suma\n",
    "          .reset_index())   # Deshacer índice jerárquico\n",
    "\n",
    "CantidadSalidaSuma = (Data_train.groupby(('ARTICULO', 'CENTROCONSUMO', 'ID_ORGANOGESTOR', 'DESC_PROVINCIA', 'Año', 'Mes')) # Agrupar\n",
    "          .CANTIDADSALIDA    # Quedarse con la columna packet_length\n",
    "          .apply(sum)       # Calcular su suma\n",
    "          .reset_index())   # Deshacer índice jerárquico"
   ]
  },
  {
   "cell_type": "code",
   "execution_count": 13,
   "metadata": {},
   "outputs": [
    {
     "data": {
      "text/plain": [
       "(67688, 8)"
      ]
     },
     "execution_count": 13,
     "metadata": {},
     "output_type": "execute_result"
    }
   ],
   "source": [
    "lista_cols = ['ARTICULO', 'CENTROCONSUMO', 'ID_ORGANOGESTOR', 'DESC_PROVINCIA', 'Año', 'Mes']\n",
    "Data_train_mensual = pd.merge(ImporteSalidaSuma, CantidadSalidaSuma,  how='inner', on= lista_cols)\n",
    "Data_train_mensual.shape\n",
    "# Ordenar = Data_train_mensual.sort_values(['Año', 'Mes', 'ARTICULO', 'CENTROCONSUMO' ])"
   ]
  },
  {
   "cell_type": "code",
   "execution_count": 14,
   "metadata": {},
   "outputs": [
    {
     "data": {
      "text/html": [
       "<div>\n",
       "<style scoped>\n",
       "    .dataframe tbody tr th:only-of-type {\n",
       "        vertical-align: middle;\n",
       "    }\n",
       "\n",
       "    .dataframe tbody tr th {\n",
       "        vertical-align: top;\n",
       "    }\n",
       "\n",
       "    .dataframe thead th {\n",
       "        text-align: right;\n",
       "    }\n",
       "</style>\n",
       "<table border=\"1\" class=\"dataframe\">\n",
       "  <thead>\n",
       "    <tr style=\"text-align: right;\">\n",
       "      <th></th>\n",
       "      <th>ARTICULO</th>\n",
       "      <th>CENTROCONSUMO</th>\n",
       "      <th>ID_ORGANOGESTOR</th>\n",
       "      <th>DESC_PROVINCIA</th>\n",
       "      <th>Año</th>\n",
       "      <th>Mes</th>\n",
       "      <th>IMPORTESALIDA</th>\n",
       "      <th>CANTIDADSALIDA</th>\n",
       "    </tr>\n",
       "  </thead>\n",
       "  <tbody>\n",
       "    <tr>\n",
       "      <td>0</td>\n",
       "      <td>-1073449806</td>\n",
       "      <td>1021</td>\n",
       "      <td>4920000000000360471</td>\n",
       "      <td>Granada</td>\n",
       "      <td>2012</td>\n",
       "      <td>3</td>\n",
       "      <td>1.324</td>\n",
       "      <td>2.0</td>\n",
       "    </tr>\n",
       "    <tr>\n",
       "      <td>1</td>\n",
       "      <td>-1073449806</td>\n",
       "      <td>9517</td>\n",
       "      <td>4920000000000360471</td>\n",
       "      <td>Granada</td>\n",
       "      <td>2012</td>\n",
       "      <td>1</td>\n",
       "      <td>0.790</td>\n",
       "      <td>2.0</td>\n",
       "    </tr>\n",
       "    <tr>\n",
       "      <td>2</td>\n",
       "      <td>-1073449806</td>\n",
       "      <td>9517</td>\n",
       "      <td>4920000000000360471</td>\n",
       "      <td>Granada</td>\n",
       "      <td>2012</td>\n",
       "      <td>4</td>\n",
       "      <td>1.324</td>\n",
       "      <td>2.0</td>\n",
       "    </tr>\n",
       "    <tr>\n",
       "      <td>3</td>\n",
       "      <td>-1073449806</td>\n",
       "      <td>9517</td>\n",
       "      <td>4920000000000360471</td>\n",
       "      <td>Granada</td>\n",
       "      <td>2012</td>\n",
       "      <td>5</td>\n",
       "      <td>0.662</td>\n",
       "      <td>1.0</td>\n",
       "    </tr>\n",
       "    <tr>\n",
       "      <td>4</td>\n",
       "      <td>-1073449806</td>\n",
       "      <td>9538</td>\n",
       "      <td>4920000000000360471</td>\n",
       "      <td>Granada</td>\n",
       "      <td>2012</td>\n",
       "      <td>1</td>\n",
       "      <td>0.000</td>\n",
       "      <td>-20.0</td>\n",
       "    </tr>\n",
       "  </tbody>\n",
       "</table>\n",
       "</div>"
      ],
      "text/plain": [
       "     ARTICULO  CENTROCONSUMO      ID_ORGANOGESTOR DESC_PROVINCIA   Año  Mes  \\\n",
       "0 -1073449806           1021  4920000000000360471        Granada  2012    3   \n",
       "1 -1073449806           9517  4920000000000360471        Granada  2012    1   \n",
       "2 -1073449806           9517  4920000000000360471        Granada  2012    4   \n",
       "3 -1073449806           9517  4920000000000360471        Granada  2012    5   \n",
       "4 -1073449806           9538  4920000000000360471        Granada  2012    1   \n",
       "\n",
       "   IMPORTESALIDA  CANTIDADSALIDA  \n",
       "0          1.324             2.0  \n",
       "1          0.790             2.0  \n",
       "2          1.324             2.0  \n",
       "3          0.662             1.0  \n",
       "4          0.000           -20.0  "
      ]
     },
     "execution_count": 14,
     "metadata": {},
     "output_type": "execute_result"
    }
   ],
   "source": [
    "Data_train_mensual.head()"
   ]
  },
  {
   "cell_type": "markdown",
   "metadata": {},
   "source": [
    "### Test"
   ]
  },
  {
   "cell_type": "code",
   "execution_count": 15,
   "metadata": {},
   "outputs": [],
   "source": [
    "del Data_test['ID'], Data_test['FECHA'], Data_test['FECHACADUCIDADEXISTENCIAS'], Data_test['Dia'],  Data_test['UBICACIONVIRTUAL']"
   ]
  },
  {
   "cell_type": "code",
   "execution_count": 16,
   "metadata": {},
   "outputs": [
    {
     "name": "stderr",
     "output_type": "stream",
     "text": [
      "C:\\Users\\victo\\Anaconda3\\envs\\baseFSA\\lib\\site-packages\\ipykernel_launcher.py:1: FutureWarning: Interpreting tuple 'by' as a list of keys, rather than a single key. Use 'by=[...]' instead of 'by=(...)'. In the future, a tuple will always mean a single key.\n",
      "  \"\"\"Entry point for launching an IPython kernel.\n"
     ]
    },
    {
     "data": {
      "text/plain": [
       "(22795, 7)"
      ]
     },
     "execution_count": 16,
     "metadata": {},
     "output_type": "execute_result"
    }
   ],
   "source": [
    "Data_test_mensual = (Data_test.groupby(('ARTICULO', 'CENTROCONSUMO', 'ID_ORGANOGESTOR', 'DESC_PROVINCIA', 'Año', 'Mes')) # Agrupar\n",
    "          .IMPORTESALIDA    # Quedarse con la columna packet_length\n",
    "          .apply(sum)       # Calcular su suma\n",
    "          .reset_index())   # Deshacer índice jerárquico\n",
    "Data_test_mensual.shape"
   ]
  },
  {
   "cell_type": "code",
   "execution_count": 17,
   "metadata": {},
   "outputs": [
    {
     "data": {
      "text/html": [
       "<div>\n",
       "<style scoped>\n",
       "    .dataframe tbody tr th:only-of-type {\n",
       "        vertical-align: middle;\n",
       "    }\n",
       "\n",
       "    .dataframe tbody tr th {\n",
       "        vertical-align: top;\n",
       "    }\n",
       "\n",
       "    .dataframe thead th {\n",
       "        text-align: right;\n",
       "    }\n",
       "</style>\n",
       "<table border=\"1\" class=\"dataframe\">\n",
       "  <thead>\n",
       "    <tr style=\"text-align: right;\">\n",
       "      <th></th>\n",
       "      <th>ARTICULO</th>\n",
       "      <th>CENTROCONSUMO</th>\n",
       "      <th>ID_ORGANOGESTOR</th>\n",
       "      <th>DESC_PROVINCIA</th>\n",
       "      <th>Año</th>\n",
       "      <th>Mes</th>\n",
       "      <th>IMPORTESALIDA</th>\n",
       "    </tr>\n",
       "  </thead>\n",
       "  <tbody>\n",
       "    <tr>\n",
       "      <td>0</td>\n",
       "      <td>-1073438649</td>\n",
       "      <td>73921</td>\n",
       "      <td>7920000000000360461</td>\n",
       "      <td>Málaga</td>\n",
       "      <td>2016</td>\n",
       "      <td>2</td>\n",
       "      <td>76.324500</td>\n",
       "    </tr>\n",
       "    <tr>\n",
       "      <td>1</td>\n",
       "      <td>-1073438649</td>\n",
       "      <td>73921</td>\n",
       "      <td>7920000000000360461</td>\n",
       "      <td>Málaga</td>\n",
       "      <td>2016</td>\n",
       "      <td>4</td>\n",
       "      <td>32.945844</td>\n",
       "    </tr>\n",
       "    <tr>\n",
       "      <td>2</td>\n",
       "      <td>-1073438649</td>\n",
       "      <td>73921</td>\n",
       "      <td>7920000000000360461</td>\n",
       "      <td>Málaga</td>\n",
       "      <td>2016</td>\n",
       "      <td>6</td>\n",
       "      <td>21.802000</td>\n",
       "    </tr>\n",
       "    <tr>\n",
       "      <td>3</td>\n",
       "      <td>-1073438649</td>\n",
       "      <td>73921</td>\n",
       "      <td>7920000000000360461</td>\n",
       "      <td>Málaga</td>\n",
       "      <td>2016</td>\n",
       "      <td>7</td>\n",
       "      <td>10.900500</td>\n",
       "    </tr>\n",
       "    <tr>\n",
       "      <td>4</td>\n",
       "      <td>-1073438649</td>\n",
       "      <td>73921</td>\n",
       "      <td>7920000000000360461</td>\n",
       "      <td>Málaga</td>\n",
       "      <td>2016</td>\n",
       "      <td>8</td>\n",
       "      <td>21.800000</td>\n",
       "    </tr>\n",
       "  </tbody>\n",
       "</table>\n",
       "</div>"
      ],
      "text/plain": [
       "     ARTICULO  CENTROCONSUMO      ID_ORGANOGESTOR DESC_PROVINCIA   Año  Mes  \\\n",
       "0 -1073438649          73921  7920000000000360461         Málaga  2016    2   \n",
       "1 -1073438649          73921  7920000000000360461         Málaga  2016    4   \n",
       "2 -1073438649          73921  7920000000000360461         Málaga  2016    6   \n",
       "3 -1073438649          73921  7920000000000360461         Málaga  2016    7   \n",
       "4 -1073438649          73921  7920000000000360461         Málaga  2016    8   \n",
       "\n",
       "   IMPORTESALIDA  \n",
       "0      76.324500  \n",
       "1      32.945844  \n",
       "2      21.802000  \n",
       "3      10.900500  \n",
       "4      21.800000  "
      ]
     },
     "execution_count": 17,
     "metadata": {},
     "output_type": "execute_result"
    }
   ],
   "source": [
    "Data_test_mensual.head()"
   ]
  },
  {
   "cell_type": "markdown",
   "metadata": {},
   "source": [
    "### Limpieza"
   ]
  },
  {
   "cell_type": "code",
   "execution_count": 25,
   "metadata": {},
   "outputs": [
    {
     "data": {
      "text/plain": [
       "20"
      ]
     },
     "execution_count": 25,
     "metadata": {},
     "output_type": "execute_result"
    }
   ],
   "source": [
    "len(Data_train_mensual['ARTICULO'].unique().tolist())"
   ]
  },
  {
   "cell_type": "code",
   "execution_count": 26,
   "metadata": {},
   "outputs": [
    {
     "data": {
      "text/plain": [
       "11"
      ]
     },
     "execution_count": 26,
     "metadata": {},
     "output_type": "execute_result"
    }
   ],
   "source": [
    "len(Data_test_mensual['ARTICULO'].unique().tolist())"
   ]
  },
  {
   "cell_type": "code",
   "execution_count": 27,
   "metadata": {},
   "outputs": [
    {
     "data": {
      "text/plain": [
       "1"
      ]
     },
     "execution_count": 27,
     "metadata": {},
     "output_type": "execute_result"
    }
   ],
   "source": [
    "l=[]\n",
    "for i in Data_test_mensual['ARTICULO'].unique().tolist():\n",
    "    if i not in Data_train_mensual['ARTICULO'].unique().tolist():\n",
    "        l.append(i)\n",
    "len(l)"
   ]
  },
  {
   "cell_type": "markdown",
   "metadata": {},
   "source": [
    "# Map"
   ]
  },
  {
   "cell_type": "code",
   "execution_count": 9,
   "metadata": {},
   "outputs": [],
   "source": [
    "coord_path = \"./csv/listado-longitud-latitud-municipios-espana.xls\"\n",
    "TypeData = Data_train"
   ]
  },
  {
   "cell_type": "markdown",
   "metadata": {},
   "source": [
    "### Total:"
   ]
  },
  {
   "cell_type": "code",
   "execution_count": 6,
   "metadata": {},
   "outputs": [],
   "source": [
    "plot_map(coord_path, TypeData, Año = 'Total')"
   ]
  },
  {
   "cell_type": "markdown",
   "metadata": {},
   "source": [
    "### Por años:"
   ]
  },
  {
   "cell_type": "code",
   "execution_count": 8,
   "metadata": {},
   "outputs": [],
   "source": [
    "for Año in Data_train['Año'].unique().tolist():\n",
    "    plot_map(coord_path, TypeData, Año)"
   ]
  }
 ],
 "metadata": {
  "kernelspec": {
   "display_name": "Python 3",
   "language": "python",
   "name": "python3"
  },
  "language_info": {
   "codemirror_mode": {
    "name": "ipython",
    "version": 3
   },
   "file_extension": ".py",
   "mimetype": "text/x-python",
   "name": "python",
   "nbconvert_exporter": "python",
   "pygments_lexer": "ipython3",
   "version": "3.7.4"
  }
 },
 "nbformat": 4,
 "nbformat_minor": 2
}
